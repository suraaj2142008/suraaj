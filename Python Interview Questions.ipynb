{
 "cells": [
  {
   "cell_type": "code",
   "execution_count": 1,
   "id": "7cf97e6f",
   "metadata": {},
   "outputs": [],
   "source": [
    "#1.How do we interchange the values of two lists?"
   ]
  },
  {
   "cell_type": "code",
   "execution_count": 2,
   "id": "6a73414f",
   "metadata": {},
   "outputs": [
    {
     "name": "stdout",
     "output_type": "stream",
     "text": [
      "[3, 2, 1, 7, 4] [1, 2, 3, 6, 9]\n"
     ]
    }
   ],
   "source": [
    "a = [1, 2, 3, 6, 9]\n",
    "b = [3, 2, 1, 7, 4]\n",
    "b,a = a,b\n",
    "print(a,b)"
   ]
  },
  {
   "cell_type": "code",
   "execution_count": 3,
   "id": "27ab7fb7",
   "metadata": {},
   "outputs": [],
   "source": [
    "#2.How do we extract values from list?"
   ]
  },
  {
   "cell_type": "code",
   "execution_count": 4,
   "id": "a878b29e",
   "metadata": {},
   "outputs": [
    {
     "name": "stdout",
     "output_type": "stream",
     "text": [
      "Padayappa\n",
      "Badshah\n"
     ]
    }
   ],
   "source": [
    "r = ['Padayappa','Annamalai','Chandramukhi','Badshah','Sivaji']\n",
    "print(r[0])\n",
    "print(r[3])"
   ]
  },
  {
   "cell_type": "code",
   "execution_count": 5,
   "id": "f7e2687b",
   "metadata": {},
   "outputs": [],
   "source": [
    "#3.How we create loops in python using list?"
   ]
  },
  {
   "cell_type": "code",
   "execution_count": 6,
   "id": "55016228",
   "metadata": {},
   "outputs": [
    {
     "name": "stdout",
     "output_type": "stream",
     "text": [
      "[0, 1, 2, 3, 4, 5, 6, 7, 8, 9]\n"
     ]
    }
   ],
   "source": [
    "a=[]\n",
    "for i in range(10):\n",
    "    a.append(i)\n",
    "print(a)    "
   ]
  },
  {
   "cell_type": "code",
   "execution_count": 7,
   "id": "0588e0aa",
   "metadata": {},
   "outputs": [],
   "source": [
    "#4.How you can convert a number to a string?"
   ]
  },
  {
   "cell_type": "code",
   "execution_count": 8,
   "id": "72a910a3",
   "metadata": {},
   "outputs": [
    {
     "name": "stdout",
     "output_type": "stream",
     "text": [
      "<class 'int'>\n",
      "<class 'str'>\n"
     ]
    }
   ],
   "source": [
    "a=10\n",
    "print(type(a))\n",
    "converted_num = str(a)\n",
    "print(type(converted_num))"
   ]
  },
  {
   "cell_type": "code",
   "execution_count": 9,
   "id": "f2bf6f01",
   "metadata": {},
   "outputs": [],
   "source": [
    "#5.How do you generate random numbers in Python?"
   ]
  },
  {
   "cell_type": "code",
   "execution_count": 10,
   "id": "a1de2e2c",
   "metadata": {},
   "outputs": [
    {
     "name": "stdout",
     "output_type": "stream",
     "text": [
      "0.3453743484297548\n"
     ]
    }
   ],
   "source": [
    "import random\n",
    "print(random.random())"
   ]
  },
  {
   "cell_type": "code",
   "execution_count": 11,
   "id": "d5475c68",
   "metadata": {},
   "outputs": [],
   "source": [
    "#6.How would you convert a list to an array?"
   ]
  },
  {
   "cell_type": "code",
   "execution_count": 12,
   "id": "31e82720",
   "metadata": {},
   "outputs": [
    {
     "name": "stdout",
     "output_type": "stream",
     "text": [
      "List:  [1, 7, 0, 6, 2, 5, 6]\n",
      "Array:  [1 7 0 6 2 5 6]\n"
     ]
    }
   ],
   "source": [
    "import numpy as np\n",
    "a = [1, 7, 0, 6, 2, 5, 6]\n",
    "b = np.array(a)\n",
    "print (\"List: \", a)\n",
    "print (\"Array: \", b)"
   ]
  },
  {
   "cell_type": "code",
   "execution_count": 13,
   "id": "314ef19f",
   "metadata": {},
   "outputs": [],
   "source": [
    "#7.How to create dataframe from list?"
   ]
  },
  {
   "cell_type": "code",
   "execution_count": 14,
   "id": "9cdbeee0",
   "metadata": {},
   "outputs": [
    {
     "data": {
      "text/html": [
       "<div>\n",
       "<style scoped>\n",
       "    .dataframe tbody tr th:only-of-type {\n",
       "        vertical-align: middle;\n",
       "    }\n",
       "\n",
       "    .dataframe tbody tr th {\n",
       "        vertical-align: top;\n",
       "    }\n",
       "\n",
       "    .dataframe thead th {\n",
       "        text-align: right;\n",
       "    }\n",
       "</style>\n",
       "<table border=\"1\" class=\"dataframe\">\n",
       "  <thead>\n",
       "    <tr style=\"text-align: right;\">\n",
       "      <th></th>\n",
       "      <th>Dialogue 1</th>\n",
       "      <th>Dialogue 2</th>\n",
       "    </tr>\n",
       "  </thead>\n",
       "  <tbody>\n",
       "    <tr>\n",
       "      <th>0</th>\n",
       "      <td>Everyone</td>\n",
       "      <td>West</td>\n",
       "    </tr>\n",
       "    <tr>\n",
       "      <th>1</th>\n",
       "      <td>is</td>\n",
       "      <td>or</td>\n",
       "    </tr>\n",
       "    <tr>\n",
       "      <th>2</th>\n",
       "      <td>invited</td>\n",
       "      <td>East</td>\n",
       "    </tr>\n",
       "    <tr>\n",
       "      <th>3</th>\n",
       "      <td>or</td>\n",
       "      <td>Powerstar</td>\n",
       "    </tr>\n",
       "    <tr>\n",
       "      <th>4</th>\n",
       "      <td>its</td>\n",
       "      <td>is</td>\n",
       "    </tr>\n",
       "    <tr>\n",
       "      <th>5</th>\n",
       "      <td>hard</td>\n",
       "      <td>the</td>\n",
       "    </tr>\n",
       "    <tr>\n",
       "      <th>6</th>\n",
       "      <td>imagining</td>\n",
       "      <td>Beast</td>\n",
       "    </tr>\n",
       "  </tbody>\n",
       "</table>\n",
       "</div>"
      ],
      "text/plain": [
       "  Dialogue 1 Dialogue 2\n",
       "0   Everyone       West\n",
       "1         is         or\n",
       "2    invited       East\n",
       "3         or  Powerstar\n",
       "4        its         is\n",
       "5       hard        the\n",
       "6  imagining      Beast"
      ]
     },
     "execution_count": 14,
     "metadata": {},
     "output_type": "execute_result"
    }
   ],
   "source": [
    "import pandas as pd\n",
    "list = [['Everyone','West'],['is','or'],['invited','East'],['or','Powerstar'],['its','is'],['hard','the'],['imagining','Beast']]\n",
    "df = pd.DataFrame(list, columns =['Dialogue 1', 'Dialogue 2'])\n",
    "df"
   ]
  },
  {
   "cell_type": "code",
   "execution_count": 15,
   "id": "b59bf044",
   "metadata": {},
   "outputs": [],
   "source": [
    "#8.How to create dataframe from dictionary?"
   ]
  },
  {
   "cell_type": "code",
   "execution_count": 16,
   "id": "ae5c49ab",
   "metadata": {},
   "outputs": [
    {
     "data": {
      "text/html": [
       "<div>\n",
       "<style scoped>\n",
       "    .dataframe tbody tr th:only-of-type {\n",
       "        vertical-align: middle;\n",
       "    }\n",
       "\n",
       "    .dataframe tbody tr th {\n",
       "        vertical-align: top;\n",
       "    }\n",
       "\n",
       "    .dataframe thead th {\n",
       "        text-align: right;\n",
       "    }\n",
       "</style>\n",
       "<table border=\"1\" class=\"dataframe\">\n",
       "  <thead>\n",
       "    <tr style=\"text-align: right;\">\n",
       "      <th></th>\n",
       "      <th>Name</th>\n",
       "      <th>Age</th>\n",
       "      <th>Team</th>\n",
       "    </tr>\n",
       "  </thead>\n",
       "  <tbody>\n",
       "    <tr>\n",
       "      <th>a</th>\n",
       "      <td>Dhoni</td>\n",
       "      <td>40</td>\n",
       "      <td>CSK</td>\n",
       "    </tr>\n",
       "    <tr>\n",
       "      <th>b</th>\n",
       "      <td>Sachin</td>\n",
       "      <td>48</td>\n",
       "      <td>MI</td>\n",
       "    </tr>\n",
       "    <tr>\n",
       "      <th>c</th>\n",
       "      <td>Kohli</td>\n",
       "      <td>32</td>\n",
       "      <td>RCB</td>\n",
       "    </tr>\n",
       "    <tr>\n",
       "      <th>d</th>\n",
       "      <td>Rooney</td>\n",
       "      <td>35</td>\n",
       "      <td>MAN U</td>\n",
       "    </tr>\n",
       "    <tr>\n",
       "      <th>e</th>\n",
       "      <td>Ronaldo</td>\n",
       "      <td>36</td>\n",
       "      <td>RM</td>\n",
       "    </tr>\n",
       "  </tbody>\n",
       "</table>\n",
       "</div>"
      ],
      "text/plain": [
       "      Name  Age   Team\n",
       "a    Dhoni   40    CSK\n",
       "b   Sachin   48     MI\n",
       "c    Kohli   32    RCB\n",
       "d   Rooney   35  MAN U\n",
       "e  Ronaldo   36     RM"
      ]
     },
     "execution_count": 16,
     "metadata": {},
     "output_type": "execute_result"
    }
   ],
   "source": [
    "dict={\n",
    "    'Name' : ['Dhoni', 'Sachin', 'Kohli', 'Rooney','Ronaldo'],\n",
    "    'Age' : [40, 48, 32, 35, 36],\n",
    "    'Team' : ['CSK', 'MI', 'RCB', 'MAN U', 'RM'],\n",
    "}\n",
    "df = pd.DataFrame(dict, index = ['a', 'b', 'c', 'd', 'e'])\n",
    "df"
   ]
  },
  {
   "cell_type": "code",
   "execution_count": 17,
   "id": "8c7efe7c",
   "metadata": {},
   "outputs": [],
   "source": [
    "#9.How to import csv?"
   ]
  },
  {
   "cell_type": "code",
   "execution_count": 18,
   "id": "83b742a2",
   "metadata": {},
   "outputs": [
    {
     "data": {
      "text/html": [
       "<div>\n",
       "<style scoped>\n",
       "    .dataframe tbody tr th:only-of-type {\n",
       "        vertical-align: middle;\n",
       "    }\n",
       "\n",
       "    .dataframe tbody tr th {\n",
       "        vertical-align: top;\n",
       "    }\n",
       "\n",
       "    .dataframe thead th {\n",
       "        text-align: right;\n",
       "    }\n",
       "</style>\n",
       "<table border=\"1\" class=\"dataframe\">\n",
       "  <thead>\n",
       "    <tr style=\"text-align: right;\">\n",
       "      <th></th>\n",
       "      <th>Channel</th>\n",
       "      <th>Region</th>\n",
       "      <th>Fresh</th>\n",
       "      <th>Milk</th>\n",
       "      <th>Grocery</th>\n",
       "      <th>Frozen</th>\n",
       "      <th>Detergents_Paper</th>\n",
       "      <th>Delicassen</th>\n",
       "    </tr>\n",
       "  </thead>\n",
       "  <tbody>\n",
       "    <tr>\n",
       "      <th>0</th>\n",
       "      <td>2</td>\n",
       "      <td>3</td>\n",
       "      <td>12669</td>\n",
       "      <td>9656</td>\n",
       "      <td>7561</td>\n",
       "      <td>214</td>\n",
       "      <td>2674</td>\n",
       "      <td>1338</td>\n",
       "    </tr>\n",
       "    <tr>\n",
       "      <th>1</th>\n",
       "      <td>2</td>\n",
       "      <td>3</td>\n",
       "      <td>7057</td>\n",
       "      <td>9810</td>\n",
       "      <td>9568</td>\n",
       "      <td>1762</td>\n",
       "      <td>3293</td>\n",
       "      <td>1776</td>\n",
       "    </tr>\n",
       "    <tr>\n",
       "      <th>2</th>\n",
       "      <td>2</td>\n",
       "      <td>3</td>\n",
       "      <td>6353</td>\n",
       "      <td>8808</td>\n",
       "      <td>7684</td>\n",
       "      <td>2405</td>\n",
       "      <td>3516</td>\n",
       "      <td>7844</td>\n",
       "    </tr>\n",
       "    <tr>\n",
       "      <th>3</th>\n",
       "      <td>1</td>\n",
       "      <td>3</td>\n",
       "      <td>13265</td>\n",
       "      <td>1196</td>\n",
       "      <td>4221</td>\n",
       "      <td>6404</td>\n",
       "      <td>507</td>\n",
       "      <td>1788</td>\n",
       "    </tr>\n",
       "    <tr>\n",
       "      <th>4</th>\n",
       "      <td>2</td>\n",
       "      <td>3</td>\n",
       "      <td>22615</td>\n",
       "      <td>5410</td>\n",
       "      <td>7198</td>\n",
       "      <td>3915</td>\n",
       "      <td>1777</td>\n",
       "      <td>5185</td>\n",
       "    </tr>\n",
       "    <tr>\n",
       "      <th>...</th>\n",
       "      <td>...</td>\n",
       "      <td>...</td>\n",
       "      <td>...</td>\n",
       "      <td>...</td>\n",
       "      <td>...</td>\n",
       "      <td>...</td>\n",
       "      <td>...</td>\n",
       "      <td>...</td>\n",
       "    </tr>\n",
       "    <tr>\n",
       "      <th>435</th>\n",
       "      <td>1</td>\n",
       "      <td>3</td>\n",
       "      <td>29703</td>\n",
       "      <td>12051</td>\n",
       "      <td>16027</td>\n",
       "      <td>13135</td>\n",
       "      <td>182</td>\n",
       "      <td>2204</td>\n",
       "    </tr>\n",
       "    <tr>\n",
       "      <th>436</th>\n",
       "      <td>1</td>\n",
       "      <td>3</td>\n",
       "      <td>39228</td>\n",
       "      <td>1431</td>\n",
       "      <td>764</td>\n",
       "      <td>4510</td>\n",
       "      <td>93</td>\n",
       "      <td>2346</td>\n",
       "    </tr>\n",
       "    <tr>\n",
       "      <th>437</th>\n",
       "      <td>2</td>\n",
       "      <td>3</td>\n",
       "      <td>14531</td>\n",
       "      <td>15488</td>\n",
       "      <td>30243</td>\n",
       "      <td>437</td>\n",
       "      <td>14841</td>\n",
       "      <td>1867</td>\n",
       "    </tr>\n",
       "    <tr>\n",
       "      <th>438</th>\n",
       "      <td>1</td>\n",
       "      <td>3</td>\n",
       "      <td>10290</td>\n",
       "      <td>1981</td>\n",
       "      <td>2232</td>\n",
       "      <td>1038</td>\n",
       "      <td>168</td>\n",
       "      <td>2125</td>\n",
       "    </tr>\n",
       "    <tr>\n",
       "      <th>439</th>\n",
       "      <td>1</td>\n",
       "      <td>3</td>\n",
       "      <td>2787</td>\n",
       "      <td>1698</td>\n",
       "      <td>2510</td>\n",
       "      <td>65</td>\n",
       "      <td>477</td>\n",
       "      <td>52</td>\n",
       "    </tr>\n",
       "  </tbody>\n",
       "</table>\n",
       "<p>440 rows × 8 columns</p>\n",
       "</div>"
      ],
      "text/plain": [
       "     Channel  Region  Fresh   Milk  Grocery  Frozen  Detergents_Paper  \\\n",
       "0          2       3  12669   9656     7561     214              2674   \n",
       "1          2       3   7057   9810     9568    1762              3293   \n",
       "2          2       3   6353   8808     7684    2405              3516   \n",
       "3          1       3  13265   1196     4221    6404               507   \n",
       "4          2       3  22615   5410     7198    3915              1777   \n",
       "..       ...     ...    ...    ...      ...     ...               ...   \n",
       "435        1       3  29703  12051    16027   13135               182   \n",
       "436        1       3  39228   1431      764    4510                93   \n",
       "437        2       3  14531  15488    30243     437             14841   \n",
       "438        1       3  10290   1981     2232    1038               168   \n",
       "439        1       3   2787   1698     2510      65               477   \n",
       "\n",
       "     Delicassen  \n",
       "0          1338  \n",
       "1          1776  \n",
       "2          7844  \n",
       "3          1788  \n",
       "4          5185  \n",
       "..          ...  \n",
       "435        2204  \n",
       "436        2346  \n",
       "437        1867  \n",
       "438        2125  \n",
       "439          52  \n",
       "\n",
       "[440 rows x 8 columns]"
      ]
     },
     "execution_count": 18,
     "metadata": {},
     "output_type": "execute_result"
    }
   ],
   "source": [
    "imp=pd.read_csv(r'C:\\Users\\User\\Documents\\ML Workshop\\Wholesale customers data.csv')\n",
    "imp"
   ]
  },
  {
   "cell_type": "code",
   "execution_count": 19,
   "id": "19889bd5",
   "metadata": {},
   "outputs": [],
   "source": [
    "#10.How do you select columns from dataframe?"
   ]
  },
  {
   "cell_type": "code",
   "execution_count": 20,
   "id": "b080267b",
   "metadata": {},
   "outputs": [
    {
     "data": {
      "text/plain": [
       "0      2\n",
       "1      2\n",
       "2      2\n",
       "3      1\n",
       "4      2\n",
       "      ..\n",
       "435    1\n",
       "436    1\n",
       "437    2\n",
       "438    1\n",
       "439    1\n",
       "Name: Channel, Length: 440, dtype: int64"
      ]
     },
     "execution_count": 20,
     "metadata": {},
     "output_type": "execute_result"
    }
   ],
   "source": [
    "imp['Channel']"
   ]
  },
  {
   "cell_type": "code",
   "execution_count": 21,
   "id": "0b916edc",
   "metadata": {},
   "outputs": [],
   "source": [
    "#11.How do you select rows from dataframe?"
   ]
  },
  {
   "cell_type": "code",
   "execution_count": 22,
   "id": "224f33db",
   "metadata": {},
   "outputs": [
    {
     "data": {
      "text/plain": [
       "Channel                 2\n",
       "Region                  3\n",
       "Fresh               31714\n",
       "Milk                12319\n",
       "Grocery             11757\n",
       "Frozen                287\n",
       "Detergents_Paper     3881\n",
       "Delicassen           2931\n",
       "Name: 12, dtype: int64"
      ]
     },
     "execution_count": 22,
     "metadata": {},
     "output_type": "execute_result"
    }
   ],
   "source": [
    "imp.iloc[12]"
   ]
  },
  {
   "cell_type": "code",
   "execution_count": 23,
   "id": "df20067a",
   "metadata": {},
   "outputs": [],
   "source": [
    "#12.How do you select both rows and columns from dataframe?"
   ]
  },
  {
   "cell_type": "code",
   "execution_count": 24,
   "id": "a073bc3a",
   "metadata": {},
   "outputs": [
    {
     "data": {
      "text/plain": [
       "3"
      ]
     },
     "execution_count": 24,
     "metadata": {},
     "output_type": "execute_result"
    }
   ],
   "source": [
    "imp['Region'].iloc[18]"
   ]
  },
  {
   "cell_type": "code",
   "execution_count": 25,
   "id": "7990fdfc",
   "metadata": {},
   "outputs": [],
   "source": [
    "#13.How do you select rows based on indices?"
   ]
  },
  {
   "cell_type": "code",
   "execution_count": 26,
   "id": "07fa4422",
   "metadata": {},
   "outputs": [
    {
     "data": {
      "text/html": [
       "<div>\n",
       "<style scoped>\n",
       "    .dataframe tbody tr th:only-of-type {\n",
       "        vertical-align: middle;\n",
       "    }\n",
       "\n",
       "    .dataframe tbody tr th {\n",
       "        vertical-align: top;\n",
       "    }\n",
       "\n",
       "    .dataframe thead th {\n",
       "        text-align: right;\n",
       "    }\n",
       "</style>\n",
       "<table border=\"1\" class=\"dataframe\">\n",
       "  <thead>\n",
       "    <tr style=\"text-align: right;\">\n",
       "      <th></th>\n",
       "      <th>Channel</th>\n",
       "      <th>Region</th>\n",
       "      <th>Fresh</th>\n",
       "      <th>Milk</th>\n",
       "      <th>Grocery</th>\n",
       "      <th>Frozen</th>\n",
       "      <th>Detergents_Paper</th>\n",
       "      <th>Delicassen</th>\n",
       "    </tr>\n",
       "  </thead>\n",
       "  <tbody>\n",
       "    <tr>\n",
       "      <th>8</th>\n",
       "      <td>1</td>\n",
       "      <td>3</td>\n",
       "      <td>5963</td>\n",
       "      <td>3648</td>\n",
       "      <td>6192</td>\n",
       "      <td>425</td>\n",
       "      <td>1716</td>\n",
       "      <td>750</td>\n",
       "    </tr>\n",
       "    <tr>\n",
       "      <th>25</th>\n",
       "      <td>2</td>\n",
       "      <td>3</td>\n",
       "      <td>16165</td>\n",
       "      <td>4230</td>\n",
       "      <td>7595</td>\n",
       "      <td>201</td>\n",
       "      <td>4003</td>\n",
       "      <td>57</td>\n",
       "    </tr>\n",
       "    <tr>\n",
       "      <th>49</th>\n",
       "      <td>2</td>\n",
       "      <td>3</td>\n",
       "      <td>4967</td>\n",
       "      <td>21412</td>\n",
       "      <td>28921</td>\n",
       "      <td>1798</td>\n",
       "      <td>13583</td>\n",
       "      <td>1163</td>\n",
       "    </tr>\n",
       "    <tr>\n",
       "      <th>125</th>\n",
       "      <td>1</td>\n",
       "      <td>3</td>\n",
       "      <td>76237</td>\n",
       "      <td>3473</td>\n",
       "      <td>7102</td>\n",
       "      <td>16538</td>\n",
       "      <td>778</td>\n",
       "      <td>918</td>\n",
       "    </tr>\n",
       "    <tr>\n",
       "      <th>202</th>\n",
       "      <td>1</td>\n",
       "      <td>1</td>\n",
       "      <td>25203</td>\n",
       "      <td>11487</td>\n",
       "      <td>9490</td>\n",
       "      <td>5065</td>\n",
       "      <td>284</td>\n",
       "      <td>6854</td>\n",
       "    </tr>\n",
       "    <tr>\n",
       "      <th>300</th>\n",
       "      <td>2</td>\n",
       "      <td>2</td>\n",
       "      <td>16448</td>\n",
       "      <td>6243</td>\n",
       "      <td>6360</td>\n",
       "      <td>824</td>\n",
       "      <td>2662</td>\n",
       "      <td>2005</td>\n",
       "    </tr>\n",
       "  </tbody>\n",
       "</table>\n",
       "</div>"
      ],
      "text/plain": [
       "     Channel  Region  Fresh   Milk  Grocery  Frozen  Detergents_Paper  \\\n",
       "8          1       3   5963   3648     6192     425              1716   \n",
       "25         2       3  16165   4230     7595     201              4003   \n",
       "49         2       3   4967  21412    28921    1798             13583   \n",
       "125        1       3  76237   3473     7102   16538               778   \n",
       "202        1       1  25203  11487     9490    5065               284   \n",
       "300        2       2  16448   6243     6360     824              2662   \n",
       "\n",
       "     Delicassen  \n",
       "8           750  \n",
       "25           57  \n",
       "49         1163  \n",
       "125         918  \n",
       "202        6854  \n",
       "300        2005  "
      ]
     },
     "execution_count": 26,
     "metadata": {},
     "output_type": "execute_result"
    }
   ],
   "source": [
    "a = [8, 25, 49, 125, 202, 300]\n",
    "rows = imp.loc[a]\n",
    "rows"
   ]
  },
  {
   "cell_type": "code",
   "execution_count": 27,
   "id": "49fbcb25",
   "metadata": {},
   "outputs": [],
   "source": [
    "#14.How do you find the median value?"
   ]
  },
  {
   "cell_type": "code",
   "execution_count": 28,
   "id": "3b2995a8",
   "metadata": {},
   "outputs": [
    {
     "data": {
      "text/plain": [
       "8504.0"
      ]
     },
     "execution_count": 28,
     "metadata": {},
     "output_type": "execute_result"
    }
   ],
   "source": [
    "imp['Fresh'].median()"
   ]
  },
  {
   "cell_type": "code",
   "execution_count": 29,
   "id": "671eda6e",
   "metadata": {},
   "outputs": [],
   "source": [
    "#15.How do you find the unique values?"
   ]
  },
  {
   "cell_type": "code",
   "execution_count": 30,
   "id": "f553b763",
   "metadata": {},
   "outputs": [
    {
     "data": {
      "text/plain": [
       "array([  214,  1762,  2405,  6404,  3915,   666,   480,  1669,   425,\n",
       "        1159,  4400,  1420,   287,  3095,   294,   397,   134,   839,\n",
       "        2205,   669,  1066,  3383,  9408,  5154,  2915,   201,  3151,\n",
       "         485,  1158,  1200,  1148,  2088,   266,  6130,   833,  1729,\n",
       "        1920,    33, 10002,  9510,  2033,   188,   787,   541,  1740,\n",
       "        1668,  7782,   584,  1798,  3860,   239,   532,   744,  2436,\n",
       "        1057,  2616,    38,   596,   129,    96,  3254,  4154,  2896,\n",
       "        3724,    36,   175,  1256,  5870,   779, 10643,  5373,  8872,\n",
       "        8132,  1285,  4407,  7530,   869,  2096,   868,   430,   283,\n",
       "         737,  2320,  1178,  1026,   987,  6312,  9735,  3443,  3347,\n",
       "        8693,  3232, 35009,   206,   440,   145,   774,   895,  5639,\n",
       "        3252,  1593,  2561, 18028,  1336,   910,   133,  2471,   247,\n",
       "         673,  2276,   805,  8853,  3220,  2555,  2715,  1517,  1647,\n",
       "        5343,  3896,  2417,  2395,  1991,  2194,  4787, 16538,  8195,\n",
       "         880,   142,  1718,  6316,   346,   576,   436,   720,  1170,\n",
       "        4575,   661,   155,   825,  2279,   321,  2995,  8425,   118,\n",
       "          42,   926,  1286,  4052,   800,   853,   531,  3001,    75,\n",
       "         233,   317,  3378,   930,   398,   824,  1092,  2665,  2367,\n",
       "        2540,  4425,   993,   405,  1393,  2399,  1116,   651,   333,\n",
       "         937,  2515,    52,  7368,  1752,  1152,  4477,   402, 16745,\n",
       "         443, 36534,    74,  2181,  3470,  6269,  2758,   275,  7332,\n",
       "         890,   547,   959,   806,  7888, 18711,  1127,  3527,   520,\n",
       "        3941,  3549,  5065,   469,  1383,   955,   878,  2946,  1859,\n",
       "         864,  1801,  4736,  1291,  1329,   913,  1374,   179,  2532,\n",
       "        2306,  1765,    91,  7496,  5612,   784,   660,  1759,  2286,\n",
       "         950,  6845,  8321,  1439,   638,  4260,  1218,  2312,  4634,\n",
       "        1112,  5243, 11422,  2216,  3752,   561,  1183,   230,  1777,\n",
       "        2077,   559,  6340,  1730,  6746,  7683,   432,  4686,  3242,\n",
       "         453,  5004,  6422,  3012,   327,  6818,   982,  4324,    61,\n",
       "       10155,  2221,  3975,  1069,  2516,  5500,  1120,   529,  4802,\n",
       "         862,  4479, 16919,  5845,  1293,   977,  1093,  5970, 10303,\n",
       "        8692,  1042,  1619,  8366,   848,  1388,   502,  2507,  3838,\n",
       "         902,   909,   417,  3045,  1455,   934,   264,  1809,   364,\n",
       "         492,   617,   799,  1840,  1149,   416,  1465, 12569,  3046,\n",
       "        1274,  4447,  1483,   662,  2679,   978,  2121,  1128,   514,\n",
       "        2714,  3703,   915,  2369, 60869,  3498,   414,  7849,  5127,\n",
       "        3570,  1234,  2208,   131, 11559,  1365,   650,  8170, 15601,\n",
       "        9584,   388,   767,   349,  1456,  2234,  2693,  2809,  1341,\n",
       "        2005,  1796,  1741,   830,   228,  6386,   245,  3157,   137,\n",
       "        6114,   340,  2601,  1206,   560,   191,  1103,  1173,  1457,\n",
       "        2046,  1089,  1364,  8164,   876,  1504,  1492,   597,  5641,\n",
       "        1034,   282,   130,  3881,  9927,  4006,  3635,  2583,  1945,\n",
       "        1960,  1677,  3019,  5502,   907,   659,  8620,  1398,  2921,\n",
       "        2644,  6838,  5390,  1601,  3576, 13223,   220,   127,  2069,\n",
       "        9806,  2854,  1646,  2349,  1389,  1535,    98, 17866,  5679,\n",
       "        1691,   633,    25,  1031,  1059,   874, 15348,  3141, 15082,\n",
       "        2198,    47,   575, 13486,   269,  1541,   688, 13135,  4510,\n",
       "         437,  1038,    65], dtype=int64)"
      ]
     },
     "execution_count": 30,
     "metadata": {},
     "output_type": "execute_result"
    }
   ],
   "source": [
    "imp['Frozen'].unique()"
   ]
  },
  {
   "cell_type": "code",
   "execution_count": 31,
   "id": "8bf93122",
   "metadata": {},
   "outputs": [],
   "source": [
    "#16.How do you find count of unique values?"
   ]
  },
  {
   "cell_type": "code",
   "execution_count": 32,
   "id": "61b1778d",
   "metadata": {},
   "outputs": [
    {
     "data": {
      "text/plain": [
       "683      2\n",
       "1493     2\n",
       "3600     2\n",
       "2406     2\n",
       "10391    2\n",
       "        ..\n",
       "223      1\n",
       "11593    1\n",
       "314      1\n",
       "16709    1\n",
       "5119     1\n",
       "Name: Grocery, Length: 430, dtype: int64"
      ]
     },
     "execution_count": 32,
     "metadata": {},
     "output_type": "execute_result"
    }
   ],
   "source": [
    "imp['Grocery'].value_counts()"
   ]
  },
  {
   "cell_type": "code",
   "execution_count": null,
   "id": "7703137f",
   "metadata": {},
   "outputs": [],
   "source": []
  },
  {
   "cell_type": "code",
   "execution_count": null,
   "id": "49e6c51d",
   "metadata": {},
   "outputs": [],
   "source": []
  },
  {
   "cell_type": "code",
   "execution_count": null,
   "id": "47780677",
   "metadata": {},
   "outputs": [],
   "source": []
  },
  {
   "cell_type": "code",
   "execution_count": null,
   "id": "a4711e93",
   "metadata": {},
   "outputs": [],
   "source": []
  },
  {
   "cell_type": "code",
   "execution_count": null,
   "id": "1fb3f568",
   "metadata": {},
   "outputs": [],
   "source": []
  },
  {
   "cell_type": "code",
   "execution_count": null,
   "id": "1ca0a7e2",
   "metadata": {},
   "outputs": [],
   "source": []
  },
  {
   "cell_type": "code",
   "execution_count": null,
   "id": "371d67b8",
   "metadata": {},
   "outputs": [],
   "source": []
  },
  {
   "cell_type": "code",
   "execution_count": null,
   "id": "6c342130",
   "metadata": {},
   "outputs": [],
   "source": []
  }
 ],
 "metadata": {
  "kernelspec": {
   "display_name": "Python 3",
   "language": "python",
   "name": "python3"
  },
  "language_info": {
   "codemirror_mode": {
    "name": "ipython",
    "version": 3
   },
   "file_extension": ".py",
   "mimetype": "text/x-python",
   "name": "python",
   "nbconvert_exporter": "python",
   "pygments_lexer": "ipython3",
   "version": "3.8.8"
  }
 },
 "nbformat": 4,
 "nbformat_minor": 5
}
