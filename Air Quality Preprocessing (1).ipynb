{
 "cells": [
  {
   "cell_type": "code",
   "execution_count": 1,
   "id": "a90a3499",
   "metadata": {},
   "outputs": [],
   "source": [
    "import numpy as np\n",
    "import pandas as pd\n",
    "import matplotlib.pyplot as plt\n",
    "import seaborn as sns"
   ]
  },
  {
   "cell_type": "code",
   "execution_count": 2,
   "id": "24b60096",
   "metadata": {},
   "outputs": [],
   "source": [
    "df = pd.read_excel(r'C:\\Users\\Lenovo\\SSN Study Materials\\ML - Prema\\Air Quality 02.xlsx')"
   ]
  },
  {
   "cell_type": "code",
   "execution_count": 3,
   "id": "c6458701",
   "metadata": {},
   "outputs": [
    {
     "data": {
      "text/html": [
       "<div>\n",
       "<style scoped>\n",
       "    .dataframe tbody tr th:only-of-type {\n",
       "        vertical-align: middle;\n",
       "    }\n",
       "\n",
       "    .dataframe tbody tr th {\n",
       "        vertical-align: top;\n",
       "    }\n",
       "\n",
       "    .dataframe thead th {\n",
       "        text-align: right;\n",
       "    }\n",
       "</style>\n",
       "<table border=\"1\" class=\"dataframe\">\n",
       "  <thead>\n",
       "    <tr style=\"text-align: right;\">\n",
       "      <th></th>\n",
       "      <th>Date</th>\n",
       "      <th>Time</th>\n",
       "      <th>COGT</th>\n",
       "      <th>PT08S1CO</th>\n",
       "      <th>NMHCGT</th>\n",
       "      <th>C6H6GT</th>\n",
       "      <th>PT08S2NMHC</th>\n",
       "      <th>NOxGT</th>\n",
       "      <th>PT08S3NOx</th>\n",
       "      <th>NO2GT</th>\n",
       "      <th>PT08S4NO2</th>\n",
       "      <th>PT08S5O3</th>\n",
       "      <th>T</th>\n",
       "      <th>RH</th>\n",
       "      <th>AH</th>\n",
       "      <th>Unnamed: 15</th>\n",
       "      <th>Unnamed: 16</th>\n",
       "    </tr>\n",
       "  </thead>\n",
       "  <tbody>\n",
       "    <tr>\n",
       "      <th>0</th>\n",
       "      <td>2004-03-10</td>\n",
       "      <td>18:00:00</td>\n",
       "      <td>2.6</td>\n",
       "      <td>1360.00</td>\n",
       "      <td>150</td>\n",
       "      <td>11.881723</td>\n",
       "      <td>1045.50</td>\n",
       "      <td>166.0</td>\n",
       "      <td>1056.25</td>\n",
       "      <td>113.0</td>\n",
       "      <td>1692.00</td>\n",
       "      <td>1267.50</td>\n",
       "      <td>13.600</td>\n",
       "      <td>48.875001</td>\n",
       "      <td>0.757754</td>\n",
       "      <td>NaN</td>\n",
       "      <td>NaN</td>\n",
       "    </tr>\n",
       "    <tr>\n",
       "      <th>1</th>\n",
       "      <td>2004-03-10</td>\n",
       "      <td>19:00:00</td>\n",
       "      <td>2.0</td>\n",
       "      <td>1292.25</td>\n",
       "      <td>112</td>\n",
       "      <td>9.397165</td>\n",
       "      <td>954.75</td>\n",
       "      <td>103.0</td>\n",
       "      <td>1173.75</td>\n",
       "      <td>92.0</td>\n",
       "      <td>1558.75</td>\n",
       "      <td>972.25</td>\n",
       "      <td>13.300</td>\n",
       "      <td>47.700000</td>\n",
       "      <td>0.725487</td>\n",
       "      <td>NaN</td>\n",
       "      <td>NaN</td>\n",
       "    </tr>\n",
       "    <tr>\n",
       "      <th>2</th>\n",
       "      <td>2004-03-10</td>\n",
       "      <td>20:00:00</td>\n",
       "      <td>2.2</td>\n",
       "      <td>1402.00</td>\n",
       "      <td>88</td>\n",
       "      <td>8.997817</td>\n",
       "      <td>939.25</td>\n",
       "      <td>131.0</td>\n",
       "      <td>1140.00</td>\n",
       "      <td>114.0</td>\n",
       "      <td>1554.50</td>\n",
       "      <td>1074.00</td>\n",
       "      <td>11.900</td>\n",
       "      <td>53.975000</td>\n",
       "      <td>0.750239</td>\n",
       "      <td>NaN</td>\n",
       "      <td>NaN</td>\n",
       "    </tr>\n",
       "    <tr>\n",
       "      <th>3</th>\n",
       "      <td>2004-03-10</td>\n",
       "      <td>21:00:00</td>\n",
       "      <td>2.2</td>\n",
       "      <td>1375.50</td>\n",
       "      <td>80</td>\n",
       "      <td>9.228796</td>\n",
       "      <td>948.25</td>\n",
       "      <td>172.0</td>\n",
       "      <td>1092.00</td>\n",
       "      <td>122.0</td>\n",
       "      <td>1583.75</td>\n",
       "      <td>1203.25</td>\n",
       "      <td>11.000</td>\n",
       "      <td>60.000000</td>\n",
       "      <td>0.786713</td>\n",
       "      <td>NaN</td>\n",
       "      <td>NaN</td>\n",
       "    </tr>\n",
       "    <tr>\n",
       "      <th>4</th>\n",
       "      <td>2004-03-10</td>\n",
       "      <td>22:00:00</td>\n",
       "      <td>1.6</td>\n",
       "      <td>1272.25</td>\n",
       "      <td>51</td>\n",
       "      <td>6.518224</td>\n",
       "      <td>835.50</td>\n",
       "      <td>131.0</td>\n",
       "      <td>1205.00</td>\n",
       "      <td>116.0</td>\n",
       "      <td>1490.00</td>\n",
       "      <td>1110.00</td>\n",
       "      <td>11.150</td>\n",
       "      <td>59.575001</td>\n",
       "      <td>0.788794</td>\n",
       "      <td>NaN</td>\n",
       "      <td>NaN</td>\n",
       "    </tr>\n",
       "    <tr>\n",
       "      <th>...</th>\n",
       "      <td>...</td>\n",
       "      <td>...</td>\n",
       "      <td>...</td>\n",
       "      <td>...</td>\n",
       "      <td>...</td>\n",
       "      <td>...</td>\n",
       "      <td>...</td>\n",
       "      <td>...</td>\n",
       "      <td>...</td>\n",
       "      <td>...</td>\n",
       "      <td>...</td>\n",
       "      <td>...</td>\n",
       "      <td>...</td>\n",
       "      <td>...</td>\n",
       "      <td>...</td>\n",
       "      <td>...</td>\n",
       "      <td>...</td>\n",
       "    </tr>\n",
       "    <tr>\n",
       "      <th>9352</th>\n",
       "      <td>2005-04-04</td>\n",
       "      <td>10:00:00</td>\n",
       "      <td>3.1</td>\n",
       "      <td>1314.25</td>\n",
       "      <td>-200</td>\n",
       "      <td>13.529605</td>\n",
       "      <td>1101.25</td>\n",
       "      <td>471.7</td>\n",
       "      <td>538.50</td>\n",
       "      <td>189.8</td>\n",
       "      <td>1374.25</td>\n",
       "      <td>1728.50</td>\n",
       "      <td>21.850</td>\n",
       "      <td>29.250000</td>\n",
       "      <td>0.756824</td>\n",
       "      <td>NaN</td>\n",
       "      <td>NaN</td>\n",
       "    </tr>\n",
       "    <tr>\n",
       "      <th>9353</th>\n",
       "      <td>2005-04-04</td>\n",
       "      <td>11:00:00</td>\n",
       "      <td>2.4</td>\n",
       "      <td>1162.50</td>\n",
       "      <td>-200</td>\n",
       "      <td>11.355157</td>\n",
       "      <td>1027.00</td>\n",
       "      <td>353.3</td>\n",
       "      <td>603.75</td>\n",
       "      <td>179.2</td>\n",
       "      <td>1263.50</td>\n",
       "      <td>1269.00</td>\n",
       "      <td>24.325</td>\n",
       "      <td>23.725000</td>\n",
       "      <td>0.711864</td>\n",
       "      <td>NaN</td>\n",
       "      <td>NaN</td>\n",
       "    </tr>\n",
       "    <tr>\n",
       "      <th>9354</th>\n",
       "      <td>2005-04-04</td>\n",
       "      <td>12:00:00</td>\n",
       "      <td>2.4</td>\n",
       "      <td>1142.00</td>\n",
       "      <td>-200</td>\n",
       "      <td>12.374538</td>\n",
       "      <td>1062.50</td>\n",
       "      <td>293.0</td>\n",
       "      <td>603.25</td>\n",
       "      <td>174.7</td>\n",
       "      <td>1240.75</td>\n",
       "      <td>1092.00</td>\n",
       "      <td>26.900</td>\n",
       "      <td>18.350000</td>\n",
       "      <td>0.640649</td>\n",
       "      <td>NaN</td>\n",
       "      <td>NaN</td>\n",
       "    </tr>\n",
       "    <tr>\n",
       "      <th>9355</th>\n",
       "      <td>2005-04-04</td>\n",
       "      <td>13:00:00</td>\n",
       "      <td>2.1</td>\n",
       "      <td>1002.50</td>\n",
       "      <td>-200</td>\n",
       "      <td>9.547187</td>\n",
       "      <td>960.50</td>\n",
       "      <td>234.5</td>\n",
       "      <td>701.50</td>\n",
       "      <td>155.7</td>\n",
       "      <td>1041.00</td>\n",
       "      <td>769.75</td>\n",
       "      <td>28.325</td>\n",
       "      <td>13.550000</td>\n",
       "      <td>0.513866</td>\n",
       "      <td>NaN</td>\n",
       "      <td>NaN</td>\n",
       "    </tr>\n",
       "    <tr>\n",
       "      <th>9356</th>\n",
       "      <td>2005-04-04</td>\n",
       "      <td>14:00:00</td>\n",
       "      <td>2.2</td>\n",
       "      <td>1070.75</td>\n",
       "      <td>-200</td>\n",
       "      <td>11.932060</td>\n",
       "      <td>1047.25</td>\n",
       "      <td>265.2</td>\n",
       "      <td>654.00</td>\n",
       "      <td>167.7</td>\n",
       "      <td>1128.50</td>\n",
       "      <td>816.00</td>\n",
       "      <td>28.500</td>\n",
       "      <td>13.125000</td>\n",
       "      <td>0.502804</td>\n",
       "      <td>NaN</td>\n",
       "      <td>NaN</td>\n",
       "    </tr>\n",
       "  </tbody>\n",
       "</table>\n",
       "<p>9357 rows × 17 columns</p>\n",
       "</div>"
      ],
      "text/plain": [
       "           Date      Time  COGT  PT08S1CO  NMHCGT     C6H6GT  PT08S2NMHC  \\\n",
       "0    2004-03-10  18:00:00   2.6   1360.00     150  11.881723     1045.50   \n",
       "1    2004-03-10  19:00:00   2.0   1292.25     112   9.397165      954.75   \n",
       "2    2004-03-10  20:00:00   2.2   1402.00      88   8.997817      939.25   \n",
       "3    2004-03-10  21:00:00   2.2   1375.50      80   9.228796      948.25   \n",
       "4    2004-03-10  22:00:00   1.6   1272.25      51   6.518224      835.50   \n",
       "...         ...       ...   ...       ...     ...        ...         ...   \n",
       "9352 2005-04-04  10:00:00   3.1   1314.25    -200  13.529605     1101.25   \n",
       "9353 2005-04-04  11:00:00   2.4   1162.50    -200  11.355157     1027.00   \n",
       "9354 2005-04-04  12:00:00   2.4   1142.00    -200  12.374538     1062.50   \n",
       "9355 2005-04-04  13:00:00   2.1   1002.50    -200   9.547187      960.50   \n",
       "9356 2005-04-04  14:00:00   2.2   1070.75    -200  11.932060     1047.25   \n",
       "\n",
       "      NOxGT  PT08S3NOx  NO2GT  PT08S4NO2  PT08S5O3       T         RH  \\\n",
       "0     166.0    1056.25  113.0    1692.00   1267.50  13.600  48.875001   \n",
       "1     103.0    1173.75   92.0    1558.75    972.25  13.300  47.700000   \n",
       "2     131.0    1140.00  114.0    1554.50   1074.00  11.900  53.975000   \n",
       "3     172.0    1092.00  122.0    1583.75   1203.25  11.000  60.000000   \n",
       "4     131.0    1205.00  116.0    1490.00   1110.00  11.150  59.575001   \n",
       "...     ...        ...    ...        ...       ...     ...        ...   \n",
       "9352  471.7     538.50  189.8    1374.25   1728.50  21.850  29.250000   \n",
       "9353  353.3     603.75  179.2    1263.50   1269.00  24.325  23.725000   \n",
       "9354  293.0     603.25  174.7    1240.75   1092.00  26.900  18.350000   \n",
       "9355  234.5     701.50  155.7    1041.00    769.75  28.325  13.550000   \n",
       "9356  265.2     654.00  167.7    1128.50    816.00  28.500  13.125000   \n",
       "\n",
       "            AH  Unnamed: 15  Unnamed: 16  \n",
       "0     0.757754          NaN          NaN  \n",
       "1     0.725487          NaN          NaN  \n",
       "2     0.750239          NaN          NaN  \n",
       "3     0.786713          NaN          NaN  \n",
       "4     0.788794          NaN          NaN  \n",
       "...        ...          ...          ...  \n",
       "9352  0.756824          NaN          NaN  \n",
       "9353  0.711864          NaN          NaN  \n",
       "9354  0.640649          NaN          NaN  \n",
       "9355  0.513866          NaN          NaN  \n",
       "9356  0.502804          NaN          NaN  \n",
       "\n",
       "[9357 rows x 17 columns]"
      ]
     },
     "execution_count": 3,
     "metadata": {},
     "output_type": "execute_result"
    }
   ],
   "source": [
    "df"
   ]
  },
  {
   "cell_type": "code",
   "execution_count": 4,
   "id": "d24c7a58",
   "metadata": {},
   "outputs": [
    {
     "name": "stdout",
     "output_type": "stream",
     "text": [
      "<class 'pandas.core.frame.DataFrame'>\n",
      "RangeIndex: 9357 entries, 0 to 9356\n",
      "Data columns (total 17 columns):\n",
      " #   Column       Non-Null Count  Dtype         \n",
      "---  ------       --------------  -----         \n",
      " 0   Date         9357 non-null   datetime64[ns]\n",
      " 1   Time         9357 non-null   object        \n",
      " 2   COGT         9357 non-null   float64       \n",
      " 3   PT08S1CO     9357 non-null   float64       \n",
      " 4   NMHCGT       9357 non-null   int64         \n",
      " 5   C6H6GT       9357 non-null   float64       \n",
      " 6   PT08S2NMHC   9357 non-null   float64       \n",
      " 7   NOxGT        9357 non-null   float64       \n",
      " 8   PT08S3NOx    9357 non-null   float64       \n",
      " 9   NO2GT        9357 non-null   float64       \n",
      " 10  PT08S4NO2    9357 non-null   float64       \n",
      " 11  PT08S5O3     9357 non-null   float64       \n",
      " 12  T            9357 non-null   float64       \n",
      " 13  RH           9357 non-null   float64       \n",
      " 14  AH           9357 non-null   float64       \n",
      " 15  Unnamed: 15  0 non-null      float64       \n",
      " 16  Unnamed: 16  0 non-null      float64       \n",
      "dtypes: datetime64[ns](1), float64(14), int64(1), object(1)\n",
      "memory usage: 1.2+ MB\n"
     ]
    }
   ],
   "source": [
    "df.info()"
   ]
  },
  {
   "cell_type": "code",
   "execution_count": 5,
   "id": "660e8961",
   "metadata": {},
   "outputs": [],
   "source": [
    "df = df.drop(['Unnamed: 15', 'Unnamed: 16', 'NMHCGT'], axis=1)"
   ]
  },
  {
   "cell_type": "code",
   "execution_count": 6,
   "id": "e58a8e33",
   "metadata": {},
   "outputs": [
    {
     "data": {
      "text/html": [
       "<div>\n",
       "<style scoped>\n",
       "    .dataframe tbody tr th:only-of-type {\n",
       "        vertical-align: middle;\n",
       "    }\n",
       "\n",
       "    .dataframe tbody tr th {\n",
       "        vertical-align: top;\n",
       "    }\n",
       "\n",
       "    .dataframe thead th {\n",
       "        text-align: right;\n",
       "    }\n",
       "</style>\n",
       "<table border=\"1\" class=\"dataframe\">\n",
       "  <thead>\n",
       "    <tr style=\"text-align: right;\">\n",
       "      <th></th>\n",
       "      <th>Date</th>\n",
       "      <th>Time</th>\n",
       "      <th>COGT</th>\n",
       "      <th>PT08S1CO</th>\n",
       "      <th>C6H6GT</th>\n",
       "      <th>PT08S2NMHC</th>\n",
       "      <th>NOxGT</th>\n",
       "      <th>PT08S3NOx</th>\n",
       "      <th>NO2GT</th>\n",
       "      <th>PT08S4NO2</th>\n",
       "      <th>PT08S5O3</th>\n",
       "      <th>T</th>\n",
       "      <th>RH</th>\n",
       "      <th>AH</th>\n",
       "    </tr>\n",
       "  </thead>\n",
       "  <tbody>\n",
       "    <tr>\n",
       "      <th>0</th>\n",
       "      <td>2004-03-10</td>\n",
       "      <td>18:00:00</td>\n",
       "      <td>2.6</td>\n",
       "      <td>1360.00</td>\n",
       "      <td>11.881723</td>\n",
       "      <td>1045.50</td>\n",
       "      <td>166.0</td>\n",
       "      <td>1056.25</td>\n",
       "      <td>113.0</td>\n",
       "      <td>1692.00</td>\n",
       "      <td>1267.50</td>\n",
       "      <td>13.600</td>\n",
       "      <td>48.875001</td>\n",
       "      <td>0.757754</td>\n",
       "    </tr>\n",
       "    <tr>\n",
       "      <th>1</th>\n",
       "      <td>2004-03-10</td>\n",
       "      <td>19:00:00</td>\n",
       "      <td>2.0</td>\n",
       "      <td>1292.25</td>\n",
       "      <td>9.397165</td>\n",
       "      <td>954.75</td>\n",
       "      <td>103.0</td>\n",
       "      <td>1173.75</td>\n",
       "      <td>92.0</td>\n",
       "      <td>1558.75</td>\n",
       "      <td>972.25</td>\n",
       "      <td>13.300</td>\n",
       "      <td>47.700000</td>\n",
       "      <td>0.725487</td>\n",
       "    </tr>\n",
       "    <tr>\n",
       "      <th>2</th>\n",
       "      <td>2004-03-10</td>\n",
       "      <td>20:00:00</td>\n",
       "      <td>2.2</td>\n",
       "      <td>1402.00</td>\n",
       "      <td>8.997817</td>\n",
       "      <td>939.25</td>\n",
       "      <td>131.0</td>\n",
       "      <td>1140.00</td>\n",
       "      <td>114.0</td>\n",
       "      <td>1554.50</td>\n",
       "      <td>1074.00</td>\n",
       "      <td>11.900</td>\n",
       "      <td>53.975000</td>\n",
       "      <td>0.750239</td>\n",
       "    </tr>\n",
       "    <tr>\n",
       "      <th>3</th>\n",
       "      <td>2004-03-10</td>\n",
       "      <td>21:00:00</td>\n",
       "      <td>2.2</td>\n",
       "      <td>1375.50</td>\n",
       "      <td>9.228796</td>\n",
       "      <td>948.25</td>\n",
       "      <td>172.0</td>\n",
       "      <td>1092.00</td>\n",
       "      <td>122.0</td>\n",
       "      <td>1583.75</td>\n",
       "      <td>1203.25</td>\n",
       "      <td>11.000</td>\n",
       "      <td>60.000000</td>\n",
       "      <td>0.786713</td>\n",
       "    </tr>\n",
       "    <tr>\n",
       "      <th>4</th>\n",
       "      <td>2004-03-10</td>\n",
       "      <td>22:00:00</td>\n",
       "      <td>1.6</td>\n",
       "      <td>1272.25</td>\n",
       "      <td>6.518224</td>\n",
       "      <td>835.50</td>\n",
       "      <td>131.0</td>\n",
       "      <td>1205.00</td>\n",
       "      <td>116.0</td>\n",
       "      <td>1490.00</td>\n",
       "      <td>1110.00</td>\n",
       "      <td>11.150</td>\n",
       "      <td>59.575001</td>\n",
       "      <td>0.788794</td>\n",
       "    </tr>\n",
       "    <tr>\n",
       "      <th>...</th>\n",
       "      <td>...</td>\n",
       "      <td>...</td>\n",
       "      <td>...</td>\n",
       "      <td>...</td>\n",
       "      <td>...</td>\n",
       "      <td>...</td>\n",
       "      <td>...</td>\n",
       "      <td>...</td>\n",
       "      <td>...</td>\n",
       "      <td>...</td>\n",
       "      <td>...</td>\n",
       "      <td>...</td>\n",
       "      <td>...</td>\n",
       "      <td>...</td>\n",
       "    </tr>\n",
       "    <tr>\n",
       "      <th>9352</th>\n",
       "      <td>2005-04-04</td>\n",
       "      <td>10:00:00</td>\n",
       "      <td>3.1</td>\n",
       "      <td>1314.25</td>\n",
       "      <td>13.529605</td>\n",
       "      <td>1101.25</td>\n",
       "      <td>471.7</td>\n",
       "      <td>538.50</td>\n",
       "      <td>189.8</td>\n",
       "      <td>1374.25</td>\n",
       "      <td>1728.50</td>\n",
       "      <td>21.850</td>\n",
       "      <td>29.250000</td>\n",
       "      <td>0.756824</td>\n",
       "    </tr>\n",
       "    <tr>\n",
       "      <th>9353</th>\n",
       "      <td>2005-04-04</td>\n",
       "      <td>11:00:00</td>\n",
       "      <td>2.4</td>\n",
       "      <td>1162.50</td>\n",
       "      <td>11.355157</td>\n",
       "      <td>1027.00</td>\n",
       "      <td>353.3</td>\n",
       "      <td>603.75</td>\n",
       "      <td>179.2</td>\n",
       "      <td>1263.50</td>\n",
       "      <td>1269.00</td>\n",
       "      <td>24.325</td>\n",
       "      <td>23.725000</td>\n",
       "      <td>0.711864</td>\n",
       "    </tr>\n",
       "    <tr>\n",
       "      <th>9354</th>\n",
       "      <td>2005-04-04</td>\n",
       "      <td>12:00:00</td>\n",
       "      <td>2.4</td>\n",
       "      <td>1142.00</td>\n",
       "      <td>12.374538</td>\n",
       "      <td>1062.50</td>\n",
       "      <td>293.0</td>\n",
       "      <td>603.25</td>\n",
       "      <td>174.7</td>\n",
       "      <td>1240.75</td>\n",
       "      <td>1092.00</td>\n",
       "      <td>26.900</td>\n",
       "      <td>18.350000</td>\n",
       "      <td>0.640649</td>\n",
       "    </tr>\n",
       "    <tr>\n",
       "      <th>9355</th>\n",
       "      <td>2005-04-04</td>\n",
       "      <td>13:00:00</td>\n",
       "      <td>2.1</td>\n",
       "      <td>1002.50</td>\n",
       "      <td>9.547187</td>\n",
       "      <td>960.50</td>\n",
       "      <td>234.5</td>\n",
       "      <td>701.50</td>\n",
       "      <td>155.7</td>\n",
       "      <td>1041.00</td>\n",
       "      <td>769.75</td>\n",
       "      <td>28.325</td>\n",
       "      <td>13.550000</td>\n",
       "      <td>0.513866</td>\n",
       "    </tr>\n",
       "    <tr>\n",
       "      <th>9356</th>\n",
       "      <td>2005-04-04</td>\n",
       "      <td>14:00:00</td>\n",
       "      <td>2.2</td>\n",
       "      <td>1070.75</td>\n",
       "      <td>11.932060</td>\n",
       "      <td>1047.25</td>\n",
       "      <td>265.2</td>\n",
       "      <td>654.00</td>\n",
       "      <td>167.7</td>\n",
       "      <td>1128.50</td>\n",
       "      <td>816.00</td>\n",
       "      <td>28.500</td>\n",
       "      <td>13.125000</td>\n",
       "      <td>0.502804</td>\n",
       "    </tr>\n",
       "  </tbody>\n",
       "</table>\n",
       "<p>9357 rows × 14 columns</p>\n",
       "</div>"
      ],
      "text/plain": [
       "           Date      Time  COGT  PT08S1CO     C6H6GT  PT08S2NMHC  NOxGT  \\\n",
       "0    2004-03-10  18:00:00   2.6   1360.00  11.881723     1045.50  166.0   \n",
       "1    2004-03-10  19:00:00   2.0   1292.25   9.397165      954.75  103.0   \n",
       "2    2004-03-10  20:00:00   2.2   1402.00   8.997817      939.25  131.0   \n",
       "3    2004-03-10  21:00:00   2.2   1375.50   9.228796      948.25  172.0   \n",
       "4    2004-03-10  22:00:00   1.6   1272.25   6.518224      835.50  131.0   \n",
       "...         ...       ...   ...       ...        ...         ...    ...   \n",
       "9352 2005-04-04  10:00:00   3.1   1314.25  13.529605     1101.25  471.7   \n",
       "9353 2005-04-04  11:00:00   2.4   1162.50  11.355157     1027.00  353.3   \n",
       "9354 2005-04-04  12:00:00   2.4   1142.00  12.374538     1062.50  293.0   \n",
       "9355 2005-04-04  13:00:00   2.1   1002.50   9.547187      960.50  234.5   \n",
       "9356 2005-04-04  14:00:00   2.2   1070.75  11.932060     1047.25  265.2   \n",
       "\n",
       "      PT08S3NOx  NO2GT  PT08S4NO2  PT08S5O3       T         RH        AH  \n",
       "0       1056.25  113.0    1692.00   1267.50  13.600  48.875001  0.757754  \n",
       "1       1173.75   92.0    1558.75    972.25  13.300  47.700000  0.725487  \n",
       "2       1140.00  114.0    1554.50   1074.00  11.900  53.975000  0.750239  \n",
       "3       1092.00  122.0    1583.75   1203.25  11.000  60.000000  0.786713  \n",
       "4       1205.00  116.0    1490.00   1110.00  11.150  59.575001  0.788794  \n",
       "...         ...    ...        ...       ...     ...        ...       ...  \n",
       "9352     538.50  189.8    1374.25   1728.50  21.850  29.250000  0.756824  \n",
       "9353     603.75  179.2    1263.50   1269.00  24.325  23.725000  0.711864  \n",
       "9354     603.25  174.7    1240.75   1092.00  26.900  18.350000  0.640649  \n",
       "9355     701.50  155.7    1041.00    769.75  28.325  13.550000  0.513866  \n",
       "9356     654.00  167.7    1128.50    816.00  28.500  13.125000  0.502804  \n",
       "\n",
       "[9357 rows x 14 columns]"
      ]
     },
     "execution_count": 6,
     "metadata": {},
     "output_type": "execute_result"
    }
   ],
   "source": [
    "df"
   ]
  },
  {
   "cell_type": "code",
   "execution_count": 7,
   "id": "3746aa80",
   "metadata": {},
   "outputs": [
    {
     "name": "stdout",
     "output_type": "stream",
     "text": [
      "<class 'pandas.core.frame.DataFrame'>\n",
      "RangeIndex: 9357 entries, 0 to 9356\n",
      "Data columns (total 14 columns):\n",
      " #   Column      Non-Null Count  Dtype         \n",
      "---  ------      --------------  -----         \n",
      " 0   Date        9357 non-null   datetime64[ns]\n",
      " 1   Time        9357 non-null   object        \n",
      " 2   COGT        9357 non-null   float64       \n",
      " 3   PT08S1CO    9357 non-null   float64       \n",
      " 4   C6H6GT      9357 non-null   float64       \n",
      " 5   PT08S2NMHC  9357 non-null   float64       \n",
      " 6   NOxGT       9357 non-null   float64       \n",
      " 7   PT08S3NOx   9357 non-null   float64       \n",
      " 8   NO2GT       9357 non-null   float64       \n",
      " 9   PT08S4NO2   9357 non-null   float64       \n",
      " 10  PT08S5O3    9357 non-null   float64       \n",
      " 11  T           9357 non-null   float64       \n",
      " 12  RH          9357 non-null   float64       \n",
      " 13  AH          9357 non-null   float64       \n",
      "dtypes: datetime64[ns](1), float64(12), object(1)\n",
      "memory usage: 1023.5+ KB\n"
     ]
    }
   ],
   "source": [
    "df.info()"
   ]
  },
  {
   "cell_type": "code",
   "execution_count": 8,
   "id": "ea7992bd",
   "metadata": {},
   "outputs": [
    {
     "data": {
      "text/plain": [
       "Date          0\n",
       "Time          0\n",
       "COGT          0\n",
       "PT08S1CO      0\n",
       "C6H6GT        0\n",
       "PT08S2NMHC    0\n",
       "NOxGT         0\n",
       "PT08S3NOx     0\n",
       "NO2GT         0\n",
       "PT08S4NO2     0\n",
       "PT08S5O3      0\n",
       "T             0\n",
       "RH            0\n",
       "AH            0\n",
       "dtype: int64"
      ]
     },
     "execution_count": 8,
     "metadata": {},
     "output_type": "execute_result"
    }
   ],
   "source": [
    "df.isnull().sum()"
   ]
  },
  {
   "cell_type": "code",
   "execution_count": 9,
   "id": "f06b6f28",
   "metadata": {},
   "outputs": [
    {
     "data": {
      "image/png": "[encoded data removed]",
      "text/plain": [
       "<Figure size 432x288 with 1 Axes>"
      ]
     },
     "metadata": {
      "needs_background": "light"
     },
     "output_type": "display_data"
    }
   ],
   "source": [
    "plt.boxplot(df['COGT'])\n",
    "plt.show()"
   ]
  },
  {
   "cell_type": "code",
   "execution_count": 10,
   "id": "3aa4a1a8",
   "metadata": {},
   "outputs": [],
   "source": [
    "#For column COGT\n",
    "Q1_COGT = df.COGT.quantile(0.25)\n",
    "Q3_COGT = df.COGT.quantile(0.75)\n",
    "IQR_COGT = Q3_COGT-Q1_COGT\n",
    "\n",
    "lower_limit_COGT = Q1_COGT-1.5*IQR_COGT\n",
    "upper_limit_COGT = Q3_COGT+1.5*IQR_COGT\n",
    "b_COGT = upper_limit_COGT\n",
    "\n",
    "for x in ['COGT']:\n",
    "    q75,q25 = np.percentile(df.loc[:,x],[75,25])\n",
    "    intr_qr = q75-q25\n",
    "\n",
    "    max = q75+(1.5*intr_qr)\n",
    "    min = q25-(1.5*intr_qr)\n",
    "\n",
    "    df.loc[df[x] < min,x] = b_COGT\n",
    "    df.loc[df[x] > max,x] = b_COGT"
   ]
  },
  {
   "cell_type": "code",
   "execution_count": 11,
   "id": "facbe5cc",
   "metadata": {},
   "outputs": [
    {
     "data": {
      "image/png": "[encoded data removed]",
      "text/plain": [
       "<Figure size 432x288 with 1 Axes>"
      ]
     },
     "metadata": {
      "needs_background": "light"
     },
     "output_type": "display_data"
    }
   ],
   "source": [
    "plt.boxplot(df['COGT'])\n",
    "plt.show()"
   ]
  },
  {
   "cell_type": "code",
   "execution_count": 12,
   "id": "657389dc",
   "metadata": {},
   "outputs": [
    {
     "data": {
      "image/png": "[encoded data removed]",
      "text/plain": [
       "<Figure size 432x288 with 1 Axes>"
      ]
     },
     "metadata": {
      "needs_background": "light"
     },
     "output_type": "display_data"
    }
   ],
   "source": [
    "plt.boxplot(df['PT08S1CO'])\n",
    "plt.show()"
   ]
  },
  {
   "cell_type": "code",
   "execution_count": 13,
   "id": "526055ec",
   "metadata": {},
   "outputs": [],
   "source": [
    "#For column PT08S1CO\n",
    "Q1_PT08S1CO = df.PT08S1CO.quantile(0.25)\n",
    "Q3_PT08S1CO = df.PT08S1CO.quantile(0.75)\n",
    "IQR_PT08S1CO = Q3_PT08S1CO-Q1_PT08S1CO\n",
    "\n",
    "lower_limit_PT08S1CO = Q1_PT08S1CO-1.5*IQR_PT08S1CO\n",
    "upper_limit_PT08S1CO = Q3_PT08S1CO+1.5*IQR_PT08S1CO\n",
    "b_PT08S1CO = upper_limit_PT08S1CO\n",
    "\n",
    "for x in ['PT08S1CO']:\n",
    "    q75,q25 = np.percentile(df.loc[:,x],[75,25])\n",
    "    intr_qr = q75-q25\n",
    "\n",
    "    max = q75+(1.5*intr_qr)\n",
    "    min = q25-(1.5*intr_qr)\n",
    "\n",
    "    df.loc[df[x] < min,x] = b_PT08S1CO\n",
    "    df.loc[df[x] > max,x] = b_PT08S1CO"
   ]
  },
  {
   "cell_type": "code",
   "execution_count": 14,
   "id": "2365d6bf",
   "metadata": {},
   "outputs": [
    {
     "data": {
      "image/png": "[encoded data removed]",
      "text/plain": [
       "<Figure size 432x288 with 1 Axes>"
      ]
     },
     "metadata": {
      "needs_background": "light"
     },
     "output_type": "display_data"
    }
   ],
   "source": [
    "plt.boxplot(df['PT08S1CO'])\n",
    "plt.show()"
   ]
  },
  {
   "cell_type": "code",
   "execution_count": 15,
   "id": "e5012dae",
   "metadata": {},
   "outputs": [
    {
     "data": {
      "image/png": "[encoded data removed]",
      "text/plain": [
       "<Figure size 432x288 with 1 Axes>"
      ]
     },
     "metadata": {
      "needs_background": "light"
     },
     "output_type": "display_data"
    }
   ],
   "source": [
    "plt.boxplot(df['C6H6GT'])\n",
    "plt.show()"
   ]
  },
  {
   "cell_type": "code",
   "execution_count": 16,
   "id": "4ed242a7",
   "metadata": {},
   "outputs": [],
   "source": [
    "#For column C6H6GT\n",
    "Q1_C6H6GT = df.C6H6GT.quantile(0.25)\n",
    "Q3_C6H6GT = df.C6H6GT.quantile(0.75)\n",
    "IQR_C6H6GT = Q3_C6H6GT-Q1_C6H6GT\n",
    "\n",
    "lower_limit_C6H6GT = Q1_C6H6GT-1.5*IQR_C6H6GT\n",
    "upper_limit_C6H6GT = Q3_C6H6GT+1.5*IQR_C6H6GT\n",
    "b_C6H6GT = upper_limit_C6H6GT\n",
    "\n",
    "for x in ['C6H6GT']:\n",
    "    q75,q25 = np.percentile(df.loc[:,x],[75,25])\n",
    "    intr_qr = q75-q25\n",
    "\n",
    "    max = q75+(1.5*intr_qr)\n",
    "    min = q25-(1.5*intr_qr)\n",
    "\n",
    "    df.loc[df[x] < min,x] = b_C6H6GT\n",
    "    df.loc[df[x] > max,x] = b_C6H6GT\n"
   ]
  },
  {
   "cell_type": "code",
   "execution_count": 17,
   "id": "24426704",
   "metadata": {},
   "outputs": [
    {
     "data": {
      "image/png": "[encoded data removed]",
      "text/plain": [
       "<Figure size 432x288 with 1 Axes>"
      ]
     },
     "metadata": {
      "needs_background": "light"
     },
     "output_type": "display_data"
    }
   ],
   "source": [
    "plt.boxplot(df['C6H6GT'])\n",
    "plt.show()"
   ]
  },
  {
   "cell_type": "code",
   "execution_count": 18,
   "id": "0bf59f89",
   "metadata": {},
   "outputs": [
    {
     "data": {
      "image/png": "[encoded data removed]",
      "text/plain": [
       "<Figure size 432x288 with 1 Axes>"
      ]
     },
     "metadata": {
      "needs_background": "light"
     },
     "output_type": "display_data"
    }
   ],
   "source": [
    "plt.boxplot(df['PT08S2NMHC'])\n",
    "plt.show()"
   ]
  },
  {
   "cell_type": "code",
   "execution_count": 19,
   "id": "4f7bf170",
   "metadata": {},
   "outputs": [],
   "source": [
    "#For column PT08S2NMHC\n",
    "Q1_PT08S2NMHC = df.PT08S2NMHC.quantile(0.25)\n",
    "Q3_PT08S2NMHC = df.PT08S2NMHC.quantile(0.75)\n",
    "IQR_PT08S2NMHC = Q3_PT08S2NMHC-Q1_PT08S2NMHC\n",
    "\n",
    "lower_limit_PT08S2NMHC = Q1_PT08S2NMHC-1.5*IQR_PT08S2NMHC\n",
    "upper_limit_PT08S2NMHC = Q3_PT08S2NMHC+1.5*IQR_PT08S2NMHC\n",
    "b_PT08S2NMHC = upper_limit_PT08S2NMHC\n",
    "\n",
    "for x in ['PT08S2NMHC']:\n",
    "    q75,q25 = np.percentile(df.loc[:,x],[75,25])\n",
    "    intr_qr = q75-q25\n",
    "\n",
    "    max = q75+(1.5*intr_qr)\n",
    "    min = q25-(1.5*intr_qr)\n",
    "\n",
    "    df.loc[df[x] < min,x] = b_PT08S2NMHC\n",
    "    df.loc[df[x] > max,x] = b_PT08S2NMHC\n"
   ]
  },
  {
   "cell_type": "code",
   "execution_count": 20,
   "id": "a08bed21",
   "metadata": {},
   "outputs": [
    {
     "data": {
      "image/png": "[encoded data removed]",
      "text/plain": [
       "<Figure size 432x288 with 1 Axes>"
      ]
     },
     "metadata": {
      "needs_background": "light"
     },
     "output_type": "display_data"
    }
   ],
   "source": [
    "plt.boxplot(df['PT08S2NMHC'])\n",
    "plt.show()"
   ]
  },
  {
   "cell_type": "code",
   "execution_count": 21,
   "id": "367a0b72",
   "metadata": {},
   "outputs": [
    {
     "data": {
      "image/png": "[encoded data removed]",
      "text/plain": [
       "<Figure size 432x288 with 1 Axes>"
      ]
     },
     "metadata": {
      "needs_background": "light"
     },
     "output_type": "display_data"
    }
   ],
   "source": [
    "plt.boxplot(df['NOxGT'])\n",
    "plt.show()"
   ]
  },
  {
   "cell_type": "code",
   "execution_count": 22,
   "id": "11527c02",
   "metadata": {},
   "outputs": [],
   "source": [
    "#For column NOxGT\n",
    "Q1_NOxGT = df.NOxGT.quantile(0.25)\n",
    "Q3_NOxGT = df.NOxGT.quantile(0.75)\n",
    "IQR_NOxGT = Q3_NOxGT-Q1_NOxGT\n",
    "\n",
    "lower_limit_NOxGT = Q1_NOxGT-1.5*IQR_NOxGT\n",
    "upper_limit_NOxGT = Q3_NOxGT+1.5*IQR_NOxGT\n",
    "b_NOxGT = upper_limit_NOxGT\n",
    "\n",
    "for x in ['NOxGT']:\n",
    "    q75,q25 = np.percentile(df.loc[:,x],[75,25])\n",
    "    intr_qr = q75-q25\n",
    "\n",
    "    max = q75+(1.5*intr_qr)\n",
    "    min = q25-(1.5*intr_qr)\n",
    "\n",
    "    df.loc[df[x] < min,x] = b_NOxGT\n",
    "    df.loc[df[x] > max,x] = b_NOxGT\n"
   ]
  },
  {
   "cell_type": "code",
   "execution_count": 23,
   "id": "1844b937",
   "metadata": {},
   "outputs": [
    {
     "data": {
      "image/png": "[encoded data removed]",
      "text/plain": [
       "<Figure size 432x288 with 1 Axes>"
      ]
     },
     "metadata": {
      "needs_background": "light"
     },
     "output_type": "display_data"
    }
   ],
   "source": [
    "plt.boxplot(df['NOxGT'])\n",
    "plt.show()"
   ]
  },
  {
   "cell_type": "code",
   "execution_count": 24,
   "id": "812ec942",
   "metadata": {},
   "outputs": [
    {
     "data": {
      "image/png": "[encoded data removed]",
      "text/plain": [
       "<Figure size 432x288 with 1 Axes>"
      ]
     },
     "metadata": {
      "needs_background": "light"
     },
     "output_type": "display_data"
    }
   ],
   "source": [
    "plt.boxplot(df['PT08S3NOx'])\n",
    "plt.show()"
   ]
  },
  {
   "cell_type": "code",
   "execution_count": 25,
   "id": "433e3a5c",
   "metadata": {},
   "outputs": [],
   "source": [
    "#For column PT08S3NOx\n",
    "Q1_PT08S3NOx = df.PT08S3NOx.quantile(0.25)\n",
    "Q3_PT08S3NOx = df.PT08S3NOx.quantile(0.75)\n",
    "IQR_PT08S3NOx = Q3_PT08S3NOx-Q1_PT08S3NOx\n",
    "\n",
    "lower_limit_PT08S3NOx = Q1_PT08S3NOx-1.5*IQR_PT08S3NOx\n",
    "upper_limit_PT08S3NOx = Q3_PT08S3NOx+1.5*IQR_PT08S3NOx\n",
    "b_PT08S3NOx = upper_limit_PT08S3NOx\n",
    "\n",
    "for x in ['PT08S3NOx']:\n",
    "    q75,q25 = np.percentile(df.loc[:,x],[75,25])\n",
    "    intr_qr = q75-q25\n",
    "\n",
    "    max = q75+(1.5*intr_qr)\n",
    "    min = q25-(1.5*intr_qr)\n",
    "\n",
    "    df.loc[df[x] < min,x] = b_PT08S3NOx\n",
    "    df.loc[df[x] > max,x] = b_PT08S3NOx\n"
   ]
  },
  {
   "cell_type": "code",
   "execution_count": 26,
   "id": "d0d36a31",
   "metadata": {},
   "outputs": [
    {
     "data": {
      "image/png": "[encoded data removed]",
      "text/plain": [
       "<Figure size 432x288 with 1 Axes>"
      ]
     },
     "metadata": {
      "needs_background": "light"
     },
     "output_type": "display_data"
    }
   ],
   "source": [
    "plt.boxplot(df['PT08S3NOx'])\n",
    "plt.show()"
   ]
  },
  {
   "cell_type": "code",
   "execution_count": 27,
   "id": "20effff5",
   "metadata": {},
   "outputs": [
    {
     "data": {
      "image/png": "[encoded data removed]",
      "text/plain": [
       "<Figure size 432x288 with 1 Axes>"
      ]
     },
     "metadata": {
      "needs_background": "light"
     },
     "output_type": "display_data"
    }
   ],
   "source": [
    "plt.boxplot(df['NO2GT'])\n",
    "plt.show()"
   ]
  },
  {
   "cell_type": "code",
   "execution_count": 28,
   "id": "cd20f8a4",
   "metadata": {},
   "outputs": [],
   "source": [
    "#For column NO2GT\n",
    "Q1_NO2GT = df.NO2GT.quantile(0.25)\n",
    "Q3_NO2GT = df.NO2GT.quantile(0.75)\n",
    "IQR_NO2GT = Q3_NO2GT-Q1_NO2GT\n",
    "\n",
    "lower_limit_NO2GT = Q1_NO2GT-1.5*IQR_NO2GT\n",
    "upper_limit_NO2GT = Q3_NO2GT+1.5*IQR_NO2GT\n",
    "b_NO2GT = upper_limit_NO2GT\n",
    "\n",
    "for x in ['NO2GT']:\n",
    "    q75,q25 = np.percentile(df.loc[:,x],[75,25])\n",
    "    intr_qr = q75-q25\n",
    "\n",
    "    max = q75+(1.5*intr_qr)\n",
    "    min = q25-(1.5*intr_qr)\n",
    "\n",
    "    df.loc[df[x] < min,x] = b_NO2GT\n",
    "    df.loc[df[x] > max,x] = b_NO2GT\n"
   ]
  },
  {
   "cell_type": "code",
   "execution_count": 29,
   "id": "d3b8210a",
   "metadata": {},
   "outputs": [
    {
     "data": {
      "image/png": "[encoded data removed]",
      "text/plain": [
       "<Figure size 432x288 with 1 Axes>"
      ]
     },
     "metadata": {
      "needs_background": "light"
     },
     "output_type": "display_data"
    }
   ],
   "source": [
    "plt.boxplot(df['NO2GT'])\n",
    "plt.show()"
   ]
  },
  {
   "cell_type": "code",
   "execution_count": 30,
   "id": "125fb338",
   "metadata": {},
   "outputs": [
    {
     "data": {
      "image/png": "[encoded data removed]",
      "text/plain": [
       "<Figure size 432x288 with 1 Axes>"
      ]
     },
     "metadata": {
      "needs_background": "light"
     },
     "output_type": "display_data"
    }
   ],
   "source": [
    "plt.boxplot(df['PT08S4NO2'])\n",
    "plt.show()"
   ]
  },
  {
   "cell_type": "code",
   "execution_count": 31,
   "id": "2e08304a",
   "metadata": {},
   "outputs": [],
   "source": [
    "#For column PT08S4NO2\n",
    "Q1_PT08S4NO2 = df.PT08S4NO2.quantile(0.25)\n",
    "Q3_PT08S4NO2 = df.PT08S4NO2.quantile(0.75)\n",
    "IQR_PT08S4NO2 = Q3_PT08S4NO2-Q1_PT08S4NO2\n",
    "\n",
    "lower_limit_PT08S4NO2 = Q1_PT08S4NO2-1.5*IQR_PT08S4NO2\n",
    "upper_limit_PT08S4NO2 = Q3_PT08S4NO2+1.5*IQR_PT08S4NO2\n",
    "b_PT08S4NO2 = upper_limit_PT08S4NO2\n",
    "\n",
    "for x in ['PT08S4NO2']:\n",
    "    q75,q25 = np.percentile(df.loc[:,x],[75,25])\n",
    "    intr_qr = q75-q25\n",
    "\n",
    "    max = q75+(1.5*intr_qr)\n",
    "    min = q25-(1.5*intr_qr)\n",
    "\n",
    "    df.loc[df[x] < min,x] = b_PT08S4NO2\n",
    "    df.loc[df[x] > max,x] = b_PT08S4NO2\n"
   ]
  },
  {
   "cell_type": "code",
   "execution_count": 32,
   "id": "022dccf3",
   "metadata": {},
   "outputs": [
    {
     "data": {
      "image/png": "[encoded data removed]",
      "text/plain": [
       "<Figure size 432x288 with 1 Axes>"
      ]
     },
     "metadata": {
      "needs_background": "light"
     },
     "output_type": "display_data"
    }
   ],
   "source": [
    "plt.boxplot(df['PT08S4NO2'])\n",
    "plt.show()"
   ]
  },
  {
   "cell_type": "code",
   "execution_count": 33,
   "id": "039eae88",
   "metadata": {},
   "outputs": [
    {
     "data": {
      "image/png": "[encoded data removed]",
      "text/plain": [
       "<Figure size 432x288 with 1 Axes>"
      ]
     },
     "metadata": {
      "needs_background": "light"
     },
     "output_type": "display_data"
    }
   ],
   "source": [
    "plt.boxplot(df['PT08S5O3'])\n",
    "plt.show()"
   ]
  },
  {
   "cell_type": "code",
   "execution_count": 34,
   "id": "ea273116",
   "metadata": {},
   "outputs": [],
   "source": [
    "#For column PT08S5O3\n",
    "Q1_PT08S5O3 = df.PT08S5O3.quantile(0.25)\n",
    "Q3_PT08S5O3 = df.PT08S5O3.quantile(0.75)\n",
    "IQR_PT08S5O3 = Q3_PT08S5O3-Q1_PT08S5O3\n",
    "\n",
    "lower_limit_PT08S5O3 = Q1_PT08S5O3-1.5*IQR_PT08S5O3\n",
    "upper_limit_PT08S5O3 = Q3_PT08S5O3+1.5*IQR_PT08S5O3\n",
    "b_PT08S5O3 = upper_limit_PT08S5O3\n",
    "\n",
    "for x in ['PT08S5O3']:\n",
    "    q75,q25 = np.percentile(df.loc[:,x],[75,25])\n",
    "    intr_qr = q75-q25\n",
    "\n",
    "    max = q75+(1.5*intr_qr)\n",
    "    min = q25-(1.5*intr_qr)\n",
    "\n",
    "    df.loc[df[x] < min,x] = b_PT08S5O3\n",
    "    df.loc[df[x] > max,x] = b_PT08S5O3\n"
   ]
  },
  {
   "cell_type": "code",
   "execution_count": 35,
   "id": "ad179219",
   "metadata": {},
   "outputs": [
    {
     "data": {
      "image/png": "[encoded data removed]",
      "text/plain": [
       "<Figure size 432x288 with 1 Axes>"
      ]
     },
     "metadata": {
      "needs_background": "light"
     },
     "output_type": "display_data"
    }
   ],
   "source": [
    "plt.boxplot(df['PT08S5O3'])\n",
    "plt.show()"
   ]
  },
  {
   "cell_type": "code",
   "execution_count": 36,
   "id": "ec27971f",
   "metadata": {},
   "outputs": [
    {
     "data": {
      "image/png": "[encoded data removed]",
      "text/plain": [
       "<Figure size 432x288 with 1 Axes>"
      ]
     },
     "metadata": {
      "needs_background": "light"
     },
     "output_type": "display_data"
    }
   ],
   "source": [
    "plt.boxplot(df['RH'])\n",
    "plt.show()"
   ]
  },
  {
   "cell_type": "code",
   "execution_count": 37,
   "id": "bb94aa76",
   "metadata": {},
   "outputs": [],
   "source": [
    "#For column RH\n",
    "Q1_RH = df.RH.quantile(0.25)\n",
    "Q3_RH = df.RH.quantile(0.75)\n",
    "IQR_RH = Q3_RH-Q1_RH\n",
    "\n",
    "lower_limit_RH = Q1_RH-1.5*IQR_RH\n",
    "upper_limit_RH = Q3_RH+1.5*IQR_RH\n",
    "b_RH = upper_limit_RH\n",
    "\n",
    "for x in ['RH']:\n",
    "    q75,q25 = np.percentile(df.loc[:,x],[75,25])\n",
    "    intr_qr = q75-q25\n",
    "\n",
    "    max = q75+(1.5*intr_qr)\n",
    "    min = q25-(1.5*intr_qr)\n",
    "\n",
    "    df.loc[df[x] < min,x] = b_RH\n",
    "    df.loc[df[x] > max,x] = b_RH"
   ]
  },
  {
   "cell_type": "code",
   "execution_count": 38,
   "id": "a87849ee",
   "metadata": {},
   "outputs": [
    {
     "data": {
      "image/png": "[encoded data removed]",
      "text/plain": [
       "<Figure size 432x288 with 1 Axes>"
      ]
     },
     "metadata": {
      "needs_background": "light"
     },
     "output_type": "display_data"
    }
   ],
   "source": [
    "plt.boxplot(df['RH'])\n",
    "plt.show()"
   ]
  },
  {
   "cell_type": "code",
   "execution_count": 39,
   "id": "ce95e0ae",
   "metadata": {},
   "outputs": [
    {
     "data": {
      "image/png": "[encoded data removed]",
      "text/plain": [
       "<Figure size 432x288 with 1 Axes>"
      ]
     },
     "metadata": {
      "needs_background": "light"
     },
     "output_type": "display_data"
    }
   ],
   "source": [
    "plt.boxplot(df['AH'])\n",
    "plt.show()"
   ]
  },
  {
   "cell_type": "code",
   "execution_count": 40,
   "id": "bdc647e0",
   "metadata": {},
   "outputs": [],
   "source": [
    "#For column AH\n",
    "Q1_AH = df.AH.quantile(0.25)\n",
    "Q3_AH = df.AH.quantile(0.75)\n",
    "IQR_AH = Q3_AH-Q1_AH\n",
    "\n",
    "lower_limit_AH = Q1_AH-1.5*IQR_AH\n",
    "upper_limit_AH = Q3_AH+1.5*IQR_AH\n",
    "b_AH = upper_limit_AH\n",
    "\n",
    "for x in ['AH']:\n",
    "    q75,q25 = np.percentile(df.loc[:,x],[75,25])\n",
    "    intr_qr = q75-q25\n",
    "\n",
    "    max = q75+(1.5*intr_qr)\n",
    "    min = q25-(1.5*intr_qr)\n",
    "\n",
    "    df.loc[df[x] < min,x] = b_AH\n",
    "    df.loc[df[x] > max,x] = b_AH"
   ]
  },
  {
   "cell_type": "code",
   "execution_count": 41,
   "id": "0f31de27",
   "metadata": {
    "scrolled": false
   },
   "outputs": [
    {
     "data": {
      "image/png": "[encoded data removed]",
      "text/plain": [
       "<Figure size 432x288 with 1 Axes>"
      ]
     },
     "metadata": {
      "needs_background": "light"
     },
     "output_type": "display_data"
    }
   ],
   "source": [
    "plt.boxplot(df['AH'])\n",
    "plt.show()"
   ]
  },
  {
   "cell_type": "code",
   "execution_count": 42,
   "id": "dc64e235",
   "metadata": {},
   "outputs": [
    {
     "name": "stdout",
     "output_type": "stream",
     "text": [
      "<class 'pandas.core.frame.DataFrame'>\n",
      "RangeIndex: 9357 entries, 0 to 9356\n",
      "Data columns (total 14 columns):\n",
      " #   Column      Non-Null Count  Dtype         \n",
      "---  ------      --------------  -----         \n",
      " 0   Date        9357 non-null   datetime64[ns]\n",
      " 1   Time        9357 non-null   object        \n",
      " 2   COGT        9357 non-null   float64       \n",
      " 3   PT08S1CO    9357 non-null   float64       \n",
      " 4   C6H6GT      9357 non-null   float64       \n",
      " 5   PT08S2NMHC  9357 non-null   float64       \n",
      " 6   NOxGT       9357 non-null   float64       \n",
      " 7   PT08S3NOx   9357 non-null   float64       \n",
      " 8   NO2GT       9357 non-null   float64       \n",
      " 9   PT08S4NO2   9357 non-null   float64       \n",
      " 10  PT08S5O3    9357 non-null   float64       \n",
      " 11  T           9357 non-null   float64       \n",
      " 12  RH          9357 non-null   float64       \n",
      " 13  AH          9357 non-null   float64       \n",
      "dtypes: datetime64[ns](1), float64(12), object(1)\n",
      "memory usage: 1023.5+ KB\n"
     ]
    }
   ],
   "source": [
    "df.info()"
   ]
  },
  {
   "cell_type": "code",
   "execution_count": 43,
   "id": "0f7c9627",
   "metadata": {
    "scrolled": true
   },
   "outputs": [
    {
     "data": {
      "image/png": "[encoded data removed]",
      "text/plain": [
       "<Figure size 432x288 with 1 Axes>"
      ]
     },
     "metadata": {
      "needs_background": "light"
     },
     "output_type": "display_data"
    }
   ],
   "source": [
    "plt.boxplot(df['T'])\n",
    "plt.show()"
   ]
  },
  {
   "cell_type": "code",
   "execution_count": 44,
   "id": "2066dc1d",
   "metadata": {},
   "outputs": [],
   "source": [
    "#For column T\n",
    "Q1_T = df.T.quantile(0.25)\n",
    "Q3_T = df.T.quantile(0.75)\n",
    "IQR_T = Q3_T-Q1_T\n",
    "\n",
    "lower_limit_T = Q1_T-1.5*IQR_T\n",
    "upper_limit_T = Q3_T+1.5*IQR_T\n",
    "b_T = upper_limit_T\n",
    "\n",
    "for x in ['T']:\n",
    "    q75,q25 = np.percentile(df.loc[:,x],[75,25])\n",
    "    intr_qr = q75-q25\n",
    "\n",
    "    max = q75+(1.5*intr_qr)\n",
    "    min = q25-(1.5*intr_qr)\n",
    "\n",
    "    df.loc[df[x] < min,x] = b_T\n",
    "    df.loc[df[x] > max,x] = b_T\n"
   ]
  },
  {
   "cell_type": "code",
   "execution_count": 45,
   "id": "101ac343",
   "metadata": {},
   "outputs": [
    {
     "data": {
      "text/plain": [
       "Date           0\n",
       "Time           0\n",
       "COGT           0\n",
       "PT08S1CO       0\n",
       "C6H6GT         0\n",
       "PT08S2NMHC     0\n",
       "NOxGT          0\n",
       "PT08S3NOx      0\n",
       "NO2GT          0\n",
       "PT08S4NO2      0\n",
       "PT08S5O3       0\n",
       "T             12\n",
       "RH             0\n",
       "AH             0\n",
       "dtype: int64"
      ]
     },
     "execution_count": 45,
     "metadata": {},
     "output_type": "execute_result"
    }
   ],
   "source": [
    "df.isnull().sum()"
   ]
  },
  {
   "cell_type": "code",
   "execution_count": 46,
   "id": "de57bd01",
   "metadata": {},
   "outputs": [],
   "source": [
    "df['T'].fillna(df['T'].mode()[0], inplace=True)"
   ]
  },
  {
   "cell_type": "code",
   "execution_count": 47,
   "id": "cc236a95",
   "metadata": {},
   "outputs": [
    {
     "data": {
      "text/plain": [
       "Date          0\n",
       "Time          0\n",
       "COGT          0\n",
       "PT08S1CO      0\n",
       "C6H6GT        0\n",
       "PT08S2NMHC    0\n",
       "NOxGT         0\n",
       "PT08S3NOx     0\n",
       "NO2GT         0\n",
       "PT08S4NO2     0\n",
       "PT08S5O3      0\n",
       "T             0\n",
       "RH            0\n",
       "AH            0\n",
       "dtype: int64"
      ]
     },
     "execution_count": 47,
     "metadata": {},
     "output_type": "execute_result"
    }
   ],
   "source": [
    "df.isnull().sum()"
   ]
  },
  {
   "cell_type": "code",
   "execution_count": 48,
   "id": "c322fdb5",
   "metadata": {},
   "outputs": [
    {
     "data": {
      "image/png": "[encoded data removed]",
      "text/plain": [
       "<Figure size 432x288 with 1 Axes>"
      ]
     },
     "metadata": {
      "needs_background": "light"
     },
     "output_type": "display_data"
    }
   ],
   "source": [
    "plt.boxplot(df['T'])\n",
    "plt.show()"
   ]
  },
  {
   "cell_type": "code",
   "execution_count": 49,
   "id": "c8e3e389",
   "metadata": {},
   "outputs": [
    {
     "data": {
      "text/html": [
       "<div>\n",
       "<style scoped>\n",
       "    .dataframe tbody tr th:only-of-type {\n",
       "        vertical-align: middle;\n",
       "    }\n",
       "\n",
       "    .dataframe tbody tr th {\n",
       "        vertical-align: top;\n",
       "    }\n",
       "\n",
       "    .dataframe thead th {\n",
       "        text-align: right;\n",
       "    }\n",
       "</style>\n",
       "<table border=\"1\" class=\"dataframe\">\n",
       "  <thead>\n",
       "    <tr style=\"text-align: right;\">\n",
       "      <th></th>\n",
       "      <th>Date</th>\n",
       "      <th>Time</th>\n",
       "      <th>COGT</th>\n",
       "      <th>PT08S1CO</th>\n",
       "      <th>C6H6GT</th>\n",
       "      <th>PT08S2NMHC</th>\n",
       "      <th>NOxGT</th>\n",
       "      <th>PT08S3NOx</th>\n",
       "      <th>NO2GT</th>\n",
       "      <th>PT08S4NO2</th>\n",
       "      <th>PT08S5O3</th>\n",
       "      <th>T</th>\n",
       "      <th>RH</th>\n",
       "      <th>AH</th>\n",
       "    </tr>\n",
       "  </thead>\n",
       "  <tbody>\n",
       "    <tr>\n",
       "      <th>0</th>\n",
       "      <td>2004-03-10</td>\n",
       "      <td>18:00:00</td>\n",
       "      <td>2.6</td>\n",
       "      <td>1360.00</td>\n",
       "      <td>11.881723</td>\n",
       "      <td>1045.50</td>\n",
       "      <td>166.0</td>\n",
       "      <td>1056.25</td>\n",
       "      <td>113.0</td>\n",
       "      <td>1692.00</td>\n",
       "      <td>1267.50</td>\n",
       "      <td>13.600</td>\n",
       "      <td>48.875001</td>\n",
       "      <td>0.757754</td>\n",
       "    </tr>\n",
       "    <tr>\n",
       "      <th>1</th>\n",
       "      <td>2004-03-10</td>\n",
       "      <td>19:00:00</td>\n",
       "      <td>2.0</td>\n",
       "      <td>1292.25</td>\n",
       "      <td>9.397165</td>\n",
       "      <td>954.75</td>\n",
       "      <td>103.0</td>\n",
       "      <td>1173.75</td>\n",
       "      <td>92.0</td>\n",
       "      <td>1558.75</td>\n",
       "      <td>972.25</td>\n",
       "      <td>13.300</td>\n",
       "      <td>47.700000</td>\n",
       "      <td>0.725487</td>\n",
       "    </tr>\n",
       "    <tr>\n",
       "      <th>2</th>\n",
       "      <td>2004-03-10</td>\n",
       "      <td>20:00:00</td>\n",
       "      <td>2.2</td>\n",
       "      <td>1402.00</td>\n",
       "      <td>8.997817</td>\n",
       "      <td>939.25</td>\n",
       "      <td>131.0</td>\n",
       "      <td>1140.00</td>\n",
       "      <td>114.0</td>\n",
       "      <td>1554.50</td>\n",
       "      <td>1074.00</td>\n",
       "      <td>11.900</td>\n",
       "      <td>53.975000</td>\n",
       "      <td>0.750239</td>\n",
       "    </tr>\n",
       "    <tr>\n",
       "      <th>3</th>\n",
       "      <td>2004-03-10</td>\n",
       "      <td>21:00:00</td>\n",
       "      <td>2.2</td>\n",
       "      <td>1375.50</td>\n",
       "      <td>9.228796</td>\n",
       "      <td>948.25</td>\n",
       "      <td>172.0</td>\n",
       "      <td>1092.00</td>\n",
       "      <td>122.0</td>\n",
       "      <td>1583.75</td>\n",
       "      <td>1203.25</td>\n",
       "      <td>11.000</td>\n",
       "      <td>60.000000</td>\n",
       "      <td>0.786713</td>\n",
       "    </tr>\n",
       "    <tr>\n",
       "      <th>4</th>\n",
       "      <td>2004-03-10</td>\n",
       "      <td>22:00:00</td>\n",
       "      <td>1.6</td>\n",
       "      <td>1272.25</td>\n",
       "      <td>6.518224</td>\n",
       "      <td>835.50</td>\n",
       "      <td>131.0</td>\n",
       "      <td>1205.00</td>\n",
       "      <td>116.0</td>\n",
       "      <td>1490.00</td>\n",
       "      <td>1110.00</td>\n",
       "      <td>11.150</td>\n",
       "      <td>59.575001</td>\n",
       "      <td>0.788794</td>\n",
       "    </tr>\n",
       "    <tr>\n",
       "      <th>...</th>\n",
       "      <td>...</td>\n",
       "      <td>...</td>\n",
       "      <td>...</td>\n",
       "      <td>...</td>\n",
       "      <td>...</td>\n",
       "      <td>...</td>\n",
       "      <td>...</td>\n",
       "      <td>...</td>\n",
       "      <td>...</td>\n",
       "      <td>...</td>\n",
       "      <td>...</td>\n",
       "      <td>...</td>\n",
       "      <td>...</td>\n",
       "      <td>...</td>\n",
       "    </tr>\n",
       "    <tr>\n",
       "      <th>9352</th>\n",
       "      <td>2005-04-04</td>\n",
       "      <td>10:00:00</td>\n",
       "      <td>3.1</td>\n",
       "      <td>1314.25</td>\n",
       "      <td>13.529605</td>\n",
       "      <td>1101.25</td>\n",
       "      <td>471.7</td>\n",
       "      <td>538.50</td>\n",
       "      <td>189.8</td>\n",
       "      <td>1374.25</td>\n",
       "      <td>1728.50</td>\n",
       "      <td>21.850</td>\n",
       "      <td>29.250000</td>\n",
       "      <td>0.756824</td>\n",
       "    </tr>\n",
       "    <tr>\n",
       "      <th>9353</th>\n",
       "      <td>2005-04-04</td>\n",
       "      <td>11:00:00</td>\n",
       "      <td>2.4</td>\n",
       "      <td>1162.50</td>\n",
       "      <td>11.355157</td>\n",
       "      <td>1027.00</td>\n",
       "      <td>353.3</td>\n",
       "      <td>603.75</td>\n",
       "      <td>179.2</td>\n",
       "      <td>1263.50</td>\n",
       "      <td>1269.00</td>\n",
       "      <td>24.325</td>\n",
       "      <td>23.725000</td>\n",
       "      <td>0.711864</td>\n",
       "    </tr>\n",
       "    <tr>\n",
       "      <th>9354</th>\n",
       "      <td>2005-04-04</td>\n",
       "      <td>12:00:00</td>\n",
       "      <td>2.4</td>\n",
       "      <td>1142.00</td>\n",
       "      <td>12.374538</td>\n",
       "      <td>1062.50</td>\n",
       "      <td>293.0</td>\n",
       "      <td>603.25</td>\n",
       "      <td>174.7</td>\n",
       "      <td>1240.75</td>\n",
       "      <td>1092.00</td>\n",
       "      <td>26.900</td>\n",
       "      <td>18.350000</td>\n",
       "      <td>0.640649</td>\n",
       "    </tr>\n",
       "    <tr>\n",
       "      <th>9355</th>\n",
       "      <td>2005-04-04</td>\n",
       "      <td>13:00:00</td>\n",
       "      <td>2.1</td>\n",
       "      <td>1002.50</td>\n",
       "      <td>9.547187</td>\n",
       "      <td>960.50</td>\n",
       "      <td>234.5</td>\n",
       "      <td>701.50</td>\n",
       "      <td>155.7</td>\n",
       "      <td>1041.00</td>\n",
       "      <td>769.75</td>\n",
       "      <td>28.325</td>\n",
       "      <td>13.550000</td>\n",
       "      <td>0.513866</td>\n",
       "    </tr>\n",
       "    <tr>\n",
       "      <th>9356</th>\n",
       "      <td>2005-04-04</td>\n",
       "      <td>14:00:00</td>\n",
       "      <td>2.2</td>\n",
       "      <td>1070.75</td>\n",
       "      <td>11.932060</td>\n",
       "      <td>1047.25</td>\n",
       "      <td>265.2</td>\n",
       "      <td>654.00</td>\n",
       "      <td>167.7</td>\n",
       "      <td>1128.50</td>\n",
       "      <td>816.00</td>\n",
       "      <td>28.500</td>\n",
       "      <td>13.125000</td>\n",
       "      <td>0.502804</td>\n",
       "    </tr>\n",
       "  </tbody>\n",
       "</table>\n",
       "<p>9357 rows × 14 columns</p>\n",
       "</div>"
      ],
      "text/plain": [
       "           Date      Time  COGT  PT08S1CO     C6H6GT  PT08S2NMHC  NOxGT  \\\n",
       "0    2004-03-10  18:00:00   2.6   1360.00  11.881723     1045.50  166.0   \n",
       "1    2004-03-10  19:00:00   2.0   1292.25   9.397165      954.75  103.0   \n",
       "2    2004-03-10  20:00:00   2.2   1402.00   8.997817      939.25  131.0   \n",
       "3    2004-03-10  21:00:00   2.2   1375.50   9.228796      948.25  172.0   \n",
       "4    2004-03-10  22:00:00   1.6   1272.25   6.518224      835.50  131.0   \n",
       "...         ...       ...   ...       ...        ...         ...    ...   \n",
       "9352 2005-04-04  10:00:00   3.1   1314.25  13.529605     1101.25  471.7   \n",
       "9353 2005-04-04  11:00:00   2.4   1162.50  11.355157     1027.00  353.3   \n",
       "9354 2005-04-04  12:00:00   2.4   1142.00  12.374538     1062.50  293.0   \n",
       "9355 2005-04-04  13:00:00   2.1   1002.50   9.547187      960.50  234.5   \n",
       "9356 2005-04-04  14:00:00   2.2   1070.75  11.932060     1047.25  265.2   \n",
       "\n",
       "      PT08S3NOx  NO2GT  PT08S4NO2  PT08S5O3       T         RH        AH  \n",
       "0       1056.25  113.0    1692.00   1267.50  13.600  48.875001  0.757754  \n",
       "1       1173.75   92.0    1558.75    972.25  13.300  47.700000  0.725487  \n",
       "2       1140.00  114.0    1554.50   1074.00  11.900  53.975000  0.750239  \n",
       "3       1092.00  122.0    1583.75   1203.25  11.000  60.000000  0.786713  \n",
       "4       1205.00  116.0    1490.00   1110.00  11.150  59.575001  0.788794  \n",
       "...         ...    ...        ...       ...     ...        ...       ...  \n",
       "9352     538.50  189.8    1374.25   1728.50  21.850  29.250000  0.756824  \n",
       "9353     603.75  179.2    1263.50   1269.00  24.325  23.725000  0.711864  \n",
       "9354     603.25  174.7    1240.75   1092.00  26.900  18.350000  0.640649  \n",
       "9355     701.50  155.7    1041.00    769.75  28.325  13.550000  0.513866  \n",
       "9356     654.00  167.7    1128.50    816.00  28.500  13.125000  0.502804  \n",
       "\n",
       "[9357 rows x 14 columns]"
      ]
     },
     "execution_count": 49,
     "metadata": {},
     "output_type": "execute_result"
    }
   ],
   "source": [
    "df"
   ]
  },
  {
   "cell_type": "code",
   "execution_count": 50,
   "id": "2c16e801",
   "metadata": {},
   "outputs": [],
   "source": [
    "#df.to_excel(\"Air Quality Preprocessed.xlsx\")\n"
   ]
  },
  {
   "cell_type": "code",
   "execution_count": null,
   "id": "3aa4d5aa",
   "metadata": {},
   "outputs": [],
   "source": []
  }
 ],
 "metadata": {
  "kernelspec": {
   "display_name": "Python 3",
   "language": "python",
   "name": "python3"
  },
  "language_info": {
   "codemirror_mode": {
    "name": "ipython",
    "version": 3
   },
   "file_extension": ".py",
   "mimetype": "text/x-python",
   "name": "python",
   "nbconvert_exporter": "python",
   "pygments_lexer": "ipython3",
   "version": "3.8.8"
  }
 },
 "nbformat": 4,
 "nbformat_minor": 5
}
